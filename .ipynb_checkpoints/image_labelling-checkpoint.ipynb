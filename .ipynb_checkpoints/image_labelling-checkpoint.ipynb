{
 "cells": [
  {
   "cell_type": "markdown",
   "id": "1e91ebdc-867e-4eff-8041-ed33a7eeca9c",
   "metadata": {},
   "source": [
    "# image labelling code\n",
    "developing code for automatic / quick image labelling\n",
    "\n",
    "\n",
    "i have discovered using the terminal is a nightmare to do labelling, so i will copy someone else who has already made a program to label in jupyter notebook."
   ]
  },
  {
   "cell_type": "code",
   "execution_count": 43,
   "id": "d5cca462-16c9-4293-a7b5-380e8b25b6cb",
   "metadata": {},
   "outputs": [],
   "source": [
    "import numpy as np\n",
    "import pandas as pd\n",
    "import os\n",
    "from PIL import Image\n",
    "from glob import glob\n",
    "import csv\n",
    "import matplotlib.pyplot as plt\n",
    "from IPython.display import clear_output\n",
    "import math"
   ]
  },
  {
   "cell_type": "markdown",
   "id": "4ee1b92b-a1e0-410b-9af5-a052378aad6a",
   "metadata": {},
   "source": [
    "first of all "
   ]
  },
  {
   "cell_type": "code",
   "execution_count": 56,
   "id": "2f61af8f-1e67-4803-b7a7-d67a09d090f8",
   "metadata": {},
   "outputs": [
    {
     "data": {
      "text/html": [
       "<div>\n",
       "<style scoped>\n",
       "    .dataframe tbody tr th:only-of-type {\n",
       "        vertical-align: middle;\n",
       "    }\n",
       "\n",
       "    .dataframe tbody tr th {\n",
       "        vertical-align: top;\n",
       "    }\n",
       "\n",
       "    .dataframe thead th {\n",
       "        text-align: right;\n",
       "    }\n",
       "</style>\n",
       "<table border=\"1\" class=\"dataframe\">\n",
       "  <thead>\n",
       "    <tr style=\"text-align: right;\">\n",
       "      <th></th>\n",
       "      <th>image_name</th>\n",
       "      <th>number_label</th>\n",
       "    </tr>\n",
       "  </thead>\n",
       "  <tbody>\n",
       "    <tr>\n",
       "      <th>0</th>\n",
       "      <td>1749002_23ch1</td>\n",
       "      <td>3.0</td>\n",
       "    </tr>\n",
       "    <tr>\n",
       "      <th>1</th>\n",
       "      <td>686358_20ch0</td>\n",
       "      <td>6.0</td>\n",
       "    </tr>\n",
       "    <tr>\n",
       "      <th>2</th>\n",
       "      <td>603096_19ch0</td>\n",
       "      <td>0.0</td>\n",
       "    </tr>\n",
       "    <tr>\n",
       "      <th>3</th>\n",
       "      <td>57384_26ch1</td>\n",
       "      <td>1.0</td>\n",
       "    </tr>\n",
       "    <tr>\n",
       "      <th>4</th>\n",
       "      <td>2625944_25ch1</td>\n",
       "      <td>NaN</td>\n",
       "    </tr>\n",
       "    <tr>\n",
       "      <th>5</th>\n",
       "      <td>507664_25ch0</td>\n",
       "      <td>NaN</td>\n",
       "    </tr>\n",
       "    <tr>\n",
       "      <th>6</th>\n",
       "      <td>1718292_20ch0</td>\n",
       "      <td>NaN</td>\n",
       "    </tr>\n",
       "    <tr>\n",
       "      <th>7</th>\n",
       "      <td>1450139_23ch0</td>\n",
       "      <td>NaN</td>\n",
       "    </tr>\n",
       "    <tr>\n",
       "      <th>8</th>\n",
       "      <td>305596_20ch0</td>\n",
       "      <td>NaN</td>\n",
       "    </tr>\n",
       "    <tr>\n",
       "      <th>9</th>\n",
       "      <td>1275727_25ch0</td>\n",
       "      <td>NaN</td>\n",
       "    </tr>\n",
       "  </tbody>\n",
       "</table>\n",
       "</div>"
      ],
      "text/plain": [
       "      image_name  number_label\n",
       "0  1749002_23ch1           3.0\n",
       "1   686358_20ch0           6.0\n",
       "2   603096_19ch0           0.0\n",
       "3    57384_26ch1           1.0\n",
       "4  2625944_25ch1           NaN\n",
       "5   507664_25ch0           NaN\n",
       "6  1718292_20ch0           NaN\n",
       "7  1450139_23ch0           NaN\n",
       "8   305596_20ch0           NaN\n",
       "9  1275727_25ch0           NaN"
      ]
     },
     "execution_count": 56,
     "metadata": {},
     "output_type": "execute_result"
    }
   ],
   "source": [
    "## directory of set of images i would like to label + corresponding csv to populate\n",
    "folder_path = '/gws/nopw/j04/dcmex/users/ezriab/image_labelling/test_random_sample/'\n",
    "\n",
    "# open csv quickly to check it is correct + in the format we expect\n",
    "csv_file_name = 'test_random_sample_updated'\n",
    "saving_csv_name = csv_file_name+'_updated.csv'\n",
    "csv_full_path = os.path.join(folder_path,csv_file_name+'.csv')\n",
    "csv_read_pd = pd.read_csv(csv_full_path)\n",
    "csv_read_pd"
   ]
  },
  {
   "cell_type": "code",
   "execution_count": 57,
   "id": "5c851a1c-731a-4273-9d8c-ceacbbc7c823",
   "metadata": {},
   "outputs": [
    {
     "name": "stdout",
     "output_type": "stream",
     "text": [
      "1450139_23ch0\n"
     ]
    },
    {
     "data": {
      "image/png": "[encoded data removed]",
      "text/plain": [
       "<Figure size 640x480 with 1 Axes>"
      ]
     },
     "metadata": {},
     "output_type": "display_data"
    },
    {
     "name": "stdin",
     "output_type": "stream",
     "text": [
      "Enter a label (0-9, or 'stop' to quit):  no\n"
     ]
    },
    {
     "name": "stdout",
     "output_type": "stream",
     "text": [
      "not words, what are you doing???\n"
     ]
    },
    {
     "name": "stdin",
     "output_type": "stream",
     "text": [
      "Enter a label (0-9, or 'stop' to quit):  no\n"
     ]
    },
    {
     "name": "stdout",
     "output_type": "stream",
     "text": [
      "not words, what are you doing???\n"
     ]
    },
    {
     "name": "stdin",
     "output_type": "stream",
     "text": [
      "Enter a label (0-9, or 'stop' to quit):  stop\n"
     ]
    },
    {
     "name": "stdout",
     "output_type": "stream",
     "text": [
      "Stopped labeling.\n",
      "test_random_sample_updated_updated.csv saved!\n"
     ]
    },
    {
     "ename": "SystemExit",
     "evalue": "",
     "output_type": "error",
     "traceback": [
      "An exception has occurred, use %tb to see the full traceback.\n",
      "\u001b[0;31mSystemExit\u001b[0m\n"
     ]
    },
    {
     "name": "stderr",
     "output_type": "stream",
     "text": [
      "/opt/jaspy/lib/python3.11/site-packages/IPython/core/interactiveshell.py:3585: UserWarning: To exit: use 'exit', 'quit', or Ctrl-D.\n",
      "  warn(\"To exit: use 'exit', 'quit', or Ctrl-D.\", stacklevel=1)\n"
     ]
    }
   ],
   "source": [
    "# function to ensure all images are captured + save the new csv\n",
    "def saving_function(new_images, new_labels, og_df_name_list):\n",
    "    if len(new_images) < len(og_df_name_list):\n",
    "        not_labelled = list(set(og_df_name_list) - set(new_images))\n",
    "        new_images.extend(not_labelled)  # Modifies the list in place\n",
    "        new_labels.extend([np.nan] * len(not_labelled))\n",
    "\n",
    "    new_csv_dic = {'image_name': new_images, 'number_label':new_labels}\n",
    "    df = pd.DataFrame(new_csv_dic)\n",
    "    df.to_csv(full_save_csv_path, index=False)\n",
    "    print(f'{saving_csv_name} saved!')\n",
    "    return df\n",
    "\n",
    "# some things need to be defined before starting the processing loop\n",
    "image_name_lst = []\n",
    "new_image_label_lst = []\n",
    "all_image_names = list(csv_read_pd['image_name'])\n",
    "full_save_csv_path = os.path.join(folder_path,saving_csv_name)\n",
    "\n",
    "\n",
    "with open(csv_full_path, mode='r') as file:\n",
    "    csv_reader = csv.reader(file)\n",
    "    header = next(csv_reader)  # Read the header row\n",
    "    # loop through each row\n",
    "    for row in csv_reader:\n",
    "        image_name = row[0]\n",
    "        label = row[1]        \n",
    "        \n",
    "        # label returns false for nan, so will just write names / labels aleady there\n",
    "        if label: \n",
    "            #num = int(label) # convert to number (corresponding to label)\n",
    "            image_name_lst.append(image_name)\n",
    "            new_image_label_lst.append(num)\n",
    "                \n",
    "        ## if is a nan, will follow this loop for labelling\n",
    "        else:\n",
    "            print(image_name)\n",
    "            im = Image.open(os.path.join(folder_path, image_name + '.png'))\n",
    "            plt.imshow(im)\n",
    "            plt.axis('off')\n",
    "            plt.show()\n",
    "            while True: # loop will continue until a valid entry is passed\n",
    "                inp = input(\"Enter a label (0-9, or 'stop' to quit): \") ## label of image\n",
    "\n",
    "                ## if write 'stop' will stop labelling + save what has been done\n",
    "                if inp.lower() == 'stop':\n",
    "                    print(\"Stopped labeling.\")\n",
    "                    done_images = saving_function(image_name_lst,new_image_label_lst,all_image_names)\n",
    "                    raise SystemExit  # Exit gracefully\n",
    "                \n",
    "                try:\n",
    "                    num = int(inp) # convert to number (corresponding to label)\n",
    "                    if 0 <= num <= 9:  # Check if the number is in the valid range\n",
    "                        clear_output(wait=True) # get rid of image once you've labelled it\n",
    "                        image_name_lst.append(image_name)\n",
    "                        new_image_label_lst.append(num)\n",
    "                        break  # Exit the loop if the input is valid\n",
    "                    else:\n",
    "                        print(\"Error: Label must be between 0 and 9.\")\n",
    "                except ValueError: # if we don't input a number -> stop labelling, so will break\n",
    "                    print(\"not words, what are you doing???\")\n",
    "                    \n",
    "                    \n",
    "done_images = saving_function(image_name_lst,new_image_label_lst,all_image_names)"
   ]
  },
  {
   "cell_type": "code",
   "execution_count": 58,
   "id": "8f2fec95-e0d9-4d78-a8bf-cfcfabb8e797",
   "metadata": {},
   "outputs": [
    {
     "data": {
      "text/html": [
       "<div>\n",
       "<style scoped>\n",
       "    .dataframe tbody tr th:only-of-type {\n",
       "        vertical-align: middle;\n",
       "    }\n",
       "\n",
       "    .dataframe tbody tr th {\n",
       "        vertical-align: top;\n",
       "    }\n",
       "\n",
       "    .dataframe thead th {\n",
       "        text-align: right;\n",
       "    }\n",
       "</style>\n",
       "<table border=\"1\" class=\"dataframe\">\n",
       "  <thead>\n",
       "    <tr style=\"text-align: right;\">\n",
       "      <th></th>\n",
       "      <th>image_name</th>\n",
       "      <th>number_label</th>\n",
       "    </tr>\n",
       "  </thead>\n",
       "  <tbody>\n",
       "    <tr>\n",
       "      <th>0</th>\n",
       "      <td>1749002_23ch1</td>\n",
       "      <td>1.0</td>\n",
       "    </tr>\n",
       "    <tr>\n",
       "      <th>1</th>\n",
       "      <td>686358_20ch0</td>\n",
       "      <td>1.0</td>\n",
       "    </tr>\n",
       "    <tr>\n",
       "      <th>2</th>\n",
       "      <td>603096_19ch0</td>\n",
       "      <td>1.0</td>\n",
       "    </tr>\n",
       "    <tr>\n",
       "      <th>3</th>\n",
       "      <td>57384_26ch1</td>\n",
       "      <td>1.0</td>\n",
       "    </tr>\n",
       "    <tr>\n",
       "      <th>4</th>\n",
       "      <td>2625944_25ch1</td>\n",
       "      <td>3.0</td>\n",
       "    </tr>\n",
       "    <tr>\n",
       "      <th>5</th>\n",
       "      <td>507664_25ch0</td>\n",
       "      <td>6.0</td>\n",
       "    </tr>\n",
       "    <tr>\n",
       "      <th>6</th>\n",
       "      <td>1718292_20ch0</td>\n",
       "      <td>2.0</td>\n",
       "    </tr>\n",
       "    <tr>\n",
       "      <th>7</th>\n",
       "      <td>305596_20ch0</td>\n",
       "      <td>NaN</td>\n",
       "    </tr>\n",
       "    <tr>\n",
       "      <th>8</th>\n",
       "      <td>1275727_25ch0</td>\n",
       "      <td>NaN</td>\n",
       "    </tr>\n",
       "    <tr>\n",
       "      <th>9</th>\n",
       "      <td>1450139_23ch0</td>\n",
       "      <td>NaN</td>\n",
       "    </tr>\n",
       "  </tbody>\n",
       "</table>\n",
       "</div>"
      ],
      "text/plain": [
       "      image_name  number_label\n",
       "0  1749002_23ch1           1.0\n",
       "1   686358_20ch0           1.0\n",
       "2   603096_19ch0           1.0\n",
       "3    57384_26ch1           1.0\n",
       "4  2625944_25ch1           3.0\n",
       "5   507664_25ch0           6.0\n",
       "6  1718292_20ch0           2.0\n",
       "7   305596_20ch0           NaN\n",
       "8  1275727_25ch0           NaN\n",
       "9  1450139_23ch0           NaN"
      ]
     },
     "execution_count": 58,
     "metadata": {},
     "output_type": "execute_result"
    }
   ],
   "source": [
    "done_images\n",
    "#df.to_csv(csv_file_list[0], index=False) "
   ]
  },
  {
   "cell_type": "code",
   "execution_count": null,
   "id": "abd80c9a-6b0c-4e92-b811-19d3f6f34755",
   "metadata": {},
   "outputs": [],
   "source": []
  }
 ],
 "metadata": {
  "kernelspec": {
   "display_name": "Python 3 + Jaspy",
   "language": "python",
   "name": "jaspy"
  },
  "language_info": {
   "codemirror_mode": {
    "name": "ipython",
    "version": 3
   },
   "file_extension": ".py",
   "mimetype": "text/x-python",
   "name": "python",
   "nbconvert_exporter": "python",
   "pygments_lexer": "ipython3",
   "version": "3.11.9"
  }
 },
 "nbformat": 4,
 "nbformat_minor": 5
}
