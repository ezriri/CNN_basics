{
 "cells": [
  {
   "cell_type": "markdown",
   "id": "00d39c2b-e294-4a0d-b5b1-4f2c53c4eb66",
   "metadata": {},
   "source": [
    "# Pytorch tutorial"
   ]
  },
  {
   "cell_type": "markdown",
   "id": "6d5ba903-3909-4453-8afa-aa99f5277818",
   "metadata": {},
   "source": [
    "basically running through code from:\n",
    "https://pytorch.org/tutorials/beginner/basics/intro.html\n",
    "* !!!!! note that the data could not be uploaded to github / model too - they are massive, so be careful when running code !!!"
   ]
  },
  {
   "cell_type": "code",
   "execution_count": 13,
   "id": "d6cd99ee-bb18-48b6-858a-495c7f283e8d",
   "metadata": {},
   "outputs": [],
   "source": [
    "import torch\n",
    "import numpy as np"
   ]
  },
  {
   "cell_type": "markdown",
   "id": "ec66b178-6d14-4e58-9019-eb1e979fbc64",
   "metadata": {
    "jp-MarkdownHeadingCollapsed": true
   },
   "source": [
    "## Tensors\n",
    "Tensor = data structure similar to arrays + matrices. Used to encode input + output of model + model parameters.\n",
    "* similar to NumPy ndarrays"
   ]
  },
  {
   "cell_type": "markdown",
   "id": "f3552e4f-c7b4-4874-95ee-8ed56ac33e01",
   "metadata": {},
   "source": [
    "### initalise a tensor"
   ]
  },
  {
   "cell_type": "code",
   "execution_count": 14,
   "id": "13f53f47-4b65-4b13-9593-44b11bcd7d14",
   "metadata": {},
   "outputs": [],
   "source": [
    "## directly from data:\n",
    "data = [[1, 2],[3, 4]]\n",
    "x_data = torch.tensor(data)\n",
    "\n",
    "## from numpy array:\n",
    "np_array = np.array(data)\n",
    "x_np = torch.from_numpy(np_array)\n",
    "\n",
    "## from another tensor (retain properties - shape + datatype):\n",
    "x_ones = torch.ones_like(x_data) # retains the properties of x_data\n",
    "x_rand = torch.rand_like(x_data, dtype=torch.float) # overrides the datatype of x_data\n",
    "\n",
    "## random / constant values:\n",
    "shape = (2,3,)\n",
    "rand_tensor = torch.rand(shape)\n",
    "ones_tensor = torch.ones(shape)\n",
    "zeros_tensor = torch.zeros(shape)"
   ]
  },
  {
   "cell_type": "markdown",
   "id": "3af6d195-944a-4395-a200-8f85a5eca5b2",
   "metadata": {},
   "source": [
    "### attributes of tensor\n",
    "* shape / datatype / device they are stored on"
   ]
  },
  {
   "cell_type": "code",
   "execution_count": 15,
   "id": "f95ce5c9-6519-477f-ae90-9c197e48d8d6",
   "metadata": {},
   "outputs": [
    {
     "name": "stdout",
     "output_type": "stream",
     "text": [
      "Shape of tensor: torch.Size([3, 4])\n",
      "Datatype of tensor: torch.float32\n",
      "Device tensor is stored on: cpu\n"
     ]
    },
    {
     "data": {
      "text/plain": [
       "tensor([[0.8721, 0.4060, 0.1214, 0.9885],\n",
       "        [0.3200, 0.0300, 0.6862, 0.2257],\n",
       "        [0.8007, 0.2909, 0.2228, 0.6047]])"
      ]
     },
     "execution_count": 15,
     "metadata": {},
     "output_type": "execute_result"
    }
   ],
   "source": [
    "tensor = torch.rand(3,4)\n",
    "print(f\"Shape of tensor: {tensor.shape}\")\n",
    "print(f\"Datatype of tensor: {tensor.dtype}\")\n",
    "print(f\"Device tensor is stored on: {tensor.device}\")\n",
    "tensor"
   ]
  },
  {
   "cell_type": "markdown",
   "id": "034dfcb8-0481-4240-a733-463325184a4f",
   "metadata": {},
   "source": [
    "### operations on tensors\n",
    "some docs: https://pytorch.org/docs/stable/torch.html\n",
    "* lot of different operations possible: arithmetic, algebra, matrix manipulation, sampling etc.\n",
    "    * i.e. slicing, joining etc\n",
    "* usually ran on GPU, so want to move it over"
   ]
  },
  {
   "cell_type": "code",
   "execution_count": 16,
   "id": "3de30654-a761-4315-be04-65a0d0c641f6",
   "metadata": {
    "jupyter": {
     "source_hidden": true
    }
   },
   "outputs": [],
   "source": [
    "if torch.cuda.is_available():\n",
    "    tensor = tensor.to(\"cuda\")"
   ]
  },
  {
   "cell_type": "code",
   "execution_count": 17,
   "id": "320d4e7c-9198-49d0-a30d-6922e9322fb5",
   "metadata": {},
   "outputs": [
    {
     "name": "stdout",
     "output_type": "stream",
     "text": [
      "First row: tensor([1., 1., 1., 1.])\n",
      "First column: tensor([1., 1., 1., 1.])\n",
      "Last column: tensor([1., 1., 1., 1.])\n",
      "tensor([[1., 0., 1., 1.],\n",
      "        [1., 0., 1., 1.],\n",
      "        [1., 0., 1., 1.],\n",
      "        [1., 0., 1., 1.]])\n",
      "tensor([[1., 0., 1., 1., 1., 0., 1., 1., 1., 0., 1., 1.],\n",
      "        [1., 0., 1., 1., 1., 0., 1., 1., 1., 0., 1., 1.],\n",
      "        [1., 0., 1., 1., 1., 0., 1., 1., 1., 0., 1., 1.],\n",
      "        [1., 0., 1., 1., 1., 0., 1., 1., 1., 0., 1., 1.]])\n"
     ]
    }
   ],
   "source": [
    "# we can do normal slicing\n",
    "tensor = torch.ones(4, 4)\n",
    "print(f\"First row: {tensor[0]}\")\n",
    "print(f\"First column: {tensor[:, 0]}\")\n",
    "print(f\"Last column: {tensor[..., -1]}\")\n",
    "tensor[:,1] = 0 # i.e all rows, the 1 column, make = 1\n",
    "print(tensor)\n",
    "\n",
    "# do concat, along a given dimension\n",
    "t1 = torch.cat([tensor, tensor, tensor], dim=1)\n",
    "print(t1)"
   ]
  },
  {
   "cell_type": "code",
   "execution_count": 18,
   "id": "144cf104-7d4b-46e0-a745-689afb638938",
   "metadata": {},
   "outputs": [
    {
     "data": {
      "text/plain": [
       "tensor([[1., 0., 1., 1.],\n",
       "        [1., 0., 1., 1.],\n",
       "        [1., 0., 1., 1.],\n",
       "        [1., 0., 1., 1.]])"
      ]
     },
     "execution_count": 18,
     "metadata": {},
     "output_type": "execute_result"
    }
   ],
   "source": [
    "## maths operations\n",
    "# matrix multiplication between two tensors. y1, y2, y3 will have the same value\n",
    "# ``tensor.T`` returns the transpose of a tensor\n",
    "y1 = tensor @ tensor.T\n",
    "y2 = tensor.matmul(tensor.T)\n",
    "y3 = torch.rand_like(y1)\n",
    "torch.matmul(tensor, tensor.T, out=y3)\n",
    "\n",
    "# This computes the element-wise product. z1, z2, z3 will have the same value\n",
    "z1 = tensor * tensor\n",
    "z2 = tensor.mul(tensor)\n",
    "z3 = torch.rand_like(tensor)\n",
    "torch.mul(tensor, tensor, out=z3)"
   ]
  },
  {
   "cell_type": "code",
   "execution_count": 19,
   "id": "e77d3a8e-c058-4780-b191-42276a342bb9",
   "metadata": {},
   "outputs": [
    {
     "name": "stdout",
     "output_type": "stream",
     "text": [
      "12.0 <class 'float'>\n"
     ]
    }
   ],
   "source": [
    "## single element tensors -> can aggregate all values into 1 value + convert to numerical value\n",
    "agg = tensor.sum()\n",
    "agg_item = agg.item()\n",
    "print(agg_item, type(agg_item))"
   ]
  },
  {
   "cell_type": "code",
   "execution_count": 20,
   "id": "37caa54b-7875-46f4-8826-6b028824669a",
   "metadata": {},
   "outputs": [
    {
     "name": "stdout",
     "output_type": "stream",
     "text": [
      "tensor([[1., 0., 1., 1.],\n",
      "        [1., 0., 1., 1.],\n",
      "        [1., 0., 1., 1.],\n",
      "        [1., 0., 1., 1.]]) \n",
      "\n",
      "tensor([[6., 5., 6., 6.],\n",
      "        [6., 5., 6., 6.],\n",
      "        [6., 5., 6., 6.],\n",
      "        [6., 5., 6., 6.]])\n"
     ]
    }
   ],
   "source": [
    "## in place operations, store results into operand (a given space) -> in-place.\n",
    "# denoted by `_` \n",
    "print(f\"{tensor} \\n\")\n",
    "tensor.add_(5)\n",
    "print(tensor)"
   ]
  },
  {
   "cell_type": "markdown",
   "id": "6c047250-e0e2-4eae-99c1-481cbf467bce",
   "metadata": {},
   "source": [
    "### Bridge with NumPy\n",
    "* can share underlying memory locations + change one another"
   ]
  },
  {
   "cell_type": "code",
   "execution_count": 21,
   "id": "060715a5-b5ca-4260-a8f4-8cd762490237",
   "metadata": {},
   "outputs": [
    {
     "name": "stdout",
     "output_type": "stream",
     "text": [
      "t: tensor([1., 1., 1., 1., 1.])\n",
      "n: [1. 1. 1. 1. 1.]\n"
     ]
    }
   ],
   "source": [
    "## Tensor -> NumPy array\n",
    "t = torch.ones(5)\n",
    "print(f\"t: {t}\")\n",
    "n = t.numpy()\n",
    "print(f\"n: {n}\")"
   ]
  },
  {
   "cell_type": "code",
   "execution_count": 22,
   "id": "79d55950-c750-490e-b84c-9d80cab3af44",
   "metadata": {},
   "outputs": [
    {
     "name": "stdout",
     "output_type": "stream",
     "text": [
      "t: tensor([2., 2., 2., 2., 2.])\n",
      "n: [2. 2. 2. 2. 2.]\n"
     ]
    }
   ],
   "source": [
    "# change in Tensor -> impact array\n",
    "t.add_(1)\n",
    "print(f\"t: {t}\")\n",
    "print(f\"n: {n}\")"
   ]
  },
  {
   "cell_type": "code",
   "execution_count": 23,
   "id": "3c821a68-52a4-439e-a176-9bf532fa3f21",
   "metadata": {},
   "outputs": [
    {
     "name": "stdout",
     "output_type": "stream",
     "text": [
      "t: tensor([2., 2., 2., 2., 2.], dtype=torch.float64)\n",
      "n: [2. 2. 2. 2. 2.]\n"
     ]
    }
   ],
   "source": [
    "## Numpy array -> Tensor\n",
    "n = np.ones(5)\n",
    "t = torch.from_numpy(n)\n",
    "\n",
    "# same again, change array -> change tensor\n",
    "np.add(n, 1, out=n)\n",
    "print(f\"t: {t}\")\n",
    "print(f\"n: {n}\")"
   ]
  },
  {
   "cell_type": "markdown",
   "id": "d7f6f2cf-10d3-4ee6-9b3a-3ca26105a3d0",
   "metadata": {},
   "source": [
    "## Datasets + DataLoaders\n",
    "Best practice: seperate dataset code from model training = better readability and modularity.\n",
    "\\\n",
    "PyTorch gives `DataLoader` and `Dataset`, to pre-load datasets + own data.\n",
    "* `Dataset` = store samples + corresponding labels\n",
    "* `DataLoader` = wrap iterable around `Dataset` - easy access to samples."
   ]
  },
  {
   "cell_type": "markdown",
   "id": "20589cda-edb2-45cd-86cf-930e8c06ddd6",
   "metadata": {
    "jp-MarkdownHeadingCollapsed": true
   },
   "source": [
    "### loading a dataset\n",
    "we are using Pytorch example:Fashion-MNIST 60,000 training + 10,000 test. 28x28 greyscale image, with label from from 10 classes\n",
    "\\\n",
    "loaded with these parameters:\n",
    "* `root` = path train / test data stored\n",
    "* `train` = specify training / test dataset (i.e. test dataset is false)\n",
    "* `download = True` = download data from internet if not available at root\n",
    "* `transform` and `target_transform` = specify feature + label transformations"
   ]
  },
  {
   "cell_type": "code",
   "execution_count": 24,
   "id": "bb8dfca7-b91d-4b9f-929d-93b8f15f7307",
   "metadata": {},
   "outputs": [],
   "source": [
    "import torch\n",
    "from torch.utils.data import Dataset\n",
    "from torchvision import datasets\n",
    "from torchvision.transforms import ToTensor\n",
    "import matplotlib.pyplot as plt\n",
    "\n",
    "training_data = datasets.FashionMNIST(\n",
    "    root=\"data\",\n",
    "    train=True,\n",
    "    download=True,\n",
    "    transform=ToTensor()\n",
    ")\n",
    "\n",
    "test_data = datasets.FashionMNIST(\n",
    "    root=\"data\",\n",
    "    train=False,\n",
    "    download=True,\n",
    "    transform=ToTensor()\n",
    ")"
   ]
  },
  {
   "cell_type": "markdown",
   "id": "d1ccb6c6-77f4-4000-b738-bba15d80dae6",
   "metadata": {
    "jp-MarkdownHeadingCollapsed": true
   },
   "source": [
    "### iterating and visualising the dataset\n",
    "we can index `Datasets` manually like a list: `training_data[index]`. Matplotlib used to visualise samples in training data."
   ]
  },
  {
   "cell_type": "code",
   "execution_count": 25,
   "id": "8875c9e7-bff5-458f-a2e7-9a9dfa4d7334",
   "metadata": {},
   "outputs": [
    {
     "data": {
      "image/png": "[encoded data removed]",
      "text/plain": [
       "<Figure size 800x800 with 9 Axes>"
      ]
     },
     "metadata": {},
     "output_type": "display_data"
    }
   ],
   "source": [
    "labels_map = {\n",
    "    0: \"T-Shirt\",\n",
    "    1: \"Trouser\",\n",
    "    2: \"Pullover\",\n",
    "    3: \"Dress\",\n",
    "    4: \"Coat\",\n",
    "    5: \"Sandal\",\n",
    "    6: \"Shirt\",\n",
    "    7: \"Sneaker\",\n",
    "    8: \"Bag\",\n",
    "    9: \"Ankle Boot\",\n",
    "}\n",
    "figure = plt.figure(figsize=(8, 8))\n",
    "cols, rows = 3, 3\n",
    "for i in range(1, cols * rows + 1):\n",
    "    sample_idx = torch.randint(len(training_data), size=(1,)).item()\n",
    "    img, label = training_data[sample_idx]\n",
    "    figure.add_subplot(rows, cols, i)\n",
    "    plt.title(labels_map[label])\n",
    "    plt.axis(\"off\")\n",
    "    plt.imshow(img.squeeze(), cmap=\"gray\")\n",
    "plt.show()"
   ]
  },
  {
   "cell_type": "markdown",
   "id": "edb7c9ba-32d6-4c8b-b24b-48339a0d5ed8",
   "metadata": {
    "jp-MarkdownHeadingCollapsed": true
   },
   "source": [
    "### custom dataset for our files\n",
    "must implement 3 functions:  `__init__`, `__len__`, and `__getitem__`\n",
    "\\\n",
    "for our example data FashionMNIST, images are stored in `img_dir`, while labels are stored seperately in CSV file `annotations_file`"
   ]
  },
  {
   "cell_type": "code",
   "execution_count": 26,
   "id": "08371095-9aa6-4cc8-9c44-16934b47c8e4",
   "metadata": {},
   "outputs": [],
   "source": [
    "import os\n",
    "import pandas as pd\n",
    "from torchvision.io import read_image\n",
    "\n",
    "class CustomImageDataset(Dataset):\n",
    "    def __init__(self, annotations_file, img_dir, transform=None, target_transform=None):\n",
    "        self.img_labels = pd.read_csv(annotations_file)\n",
    "        self.img_dir = img_dir\n",
    "        self.transform = transform\n",
    "        self.target_transform = target_transform\n",
    "\n",
    "    def __len__(self):\n",
    "        return len(self.img_labels)\n",
    "\n",
    "    def __getitem__(self, idx):\n",
    "        img_path = os.path.join(self.img_dir, self.img_labels.iloc[idx, 0])\n",
    "        image = read_image(img_path)\n",
    "        label = self.img_labels.iloc[idx, 1]\n",
    "        if self.transform:\n",
    "            image = self.transform(image)\n",
    "        if self.target_transform:\n",
    "            label = self.target_transform(label)\n",
    "        return image, label"
   ]
  },
  {
   "cell_type": "markdown",
   "id": "44174181-1a44-45c4-9f2b-480b0af9cf77",
   "metadata": {},
   "source": [
    "#### `__init__`\n",
    "* ran once when reading in dataset object.\n",
    "* creating a instance of dataset class\n",
    "* initialise dataset + pass parameters / configurations to dataset\n",
    "* i.e. specifying directory of images and annotations file (and transforms)"
   ]
  },
  {
   "cell_type": "raw",
   "id": "6a3a7c82-851c-4dbf-b161-7201c656c8cc",
   "metadata": {},
   "source": [
    "labels.csv file:\n",
    "tshirt1.jpg, 0\n",
    "tshirt2.jpg, 0\n",
    "......\n",
    "ankleboot999.jpg, 9"
   ]
  },
  {
   "cell_type": "code",
   "execution_count": 27,
   "id": "58e9b513-5ee8-445b-ab96-5d2ffcef9fcd",
   "metadata": {},
   "outputs": [],
   "source": [
    "def __init__(self, annotations_file, img_dir, transform=None, target_transform=None):\n",
    "    self.img_labels = pd.read_csv(annotations_file)\n",
    "    self.img_dir = img_dir\n",
    "    self.transform = transform\n",
    "    self.target_transform = target_transform"
   ]
  },
  {
   "cell_type": "markdown",
   "id": "3833938a-981b-4bbf-85a5-1f91e723d7be",
   "metadata": {},
   "source": [
    "#### `__len__`\n",
    "* specify length of dataset - i.e. total number of samples\n",
    "* return integer"
   ]
  },
  {
   "cell_type": "code",
   "execution_count": 28,
   "id": "f3775850-1290-44c8-811f-bfec042a948b",
   "metadata": {},
   "outputs": [],
   "source": [
    "def __len__(self):\n",
    "    return len(self.img_labels)"
   ]
  },
  {
   "cell_type": "markdown",
   "id": "424d301a-0828-454a-aa38-913105463c1f",
   "metadata": {},
   "source": [
    "#### `__getitem__`\n",
    "* retrieve a sample from dataset in a given index\n",
    "* take index input, identify image location on disk, convert to tensor using `read_image`, retrieve corresponding label from csv data in `self.img_labels`, call transform function on them (if applicable), return tensor image + correpsonding label in tupel."
   ]
  },
  {
   "cell_type": "code",
   "execution_count": 29,
   "id": "0f92fd52-c100-4acf-9667-3cbe7c4c6662",
   "metadata": {},
   "outputs": [],
   "source": [
    "def __getitem__(self, idx):\n",
    "    img_path = os.path.join(self.img_dir, self.img_labels.iloc[idx, 0])\n",
    "    image = read_image(img_path)\n",
    "    label = self.img_labels.iloc[idx, 1]\n",
    "    if self.transform:\n",
    "        image = self.transform(image)\n",
    "    if self.target_transform:\n",
    "        label = self.target_transform(label)\n",
    "    return image, label"
   ]
  },
  {
   "cell_type": "markdown",
   "id": "5552b219-9c14-4f1f-9ac3-21bc0dfcd3db",
   "metadata": {
    "jp-MarkdownHeadingCollapsed": true
   },
   "source": [
    "### prepare data for training with DataLoader\n",
    "`Dataset` retrieve dataset features + labels one sample at a time. But training a model, we want to pass in 'minibatches' + reshuffle the data at every epoch = reduce overfitting. use Python `multiprocessing` to speed up data retrieveal. \n",
    "\\\n",
    "`DataLoader` = iterable that simplifys the process"
   ]
  },
  {
   "cell_type": "code",
   "execution_count": 30,
   "id": "ad56976a-a8b5-44f3-9753-15ea74f9bfc6",
   "metadata": {},
   "outputs": [],
   "source": [
    "from torch.utils.data import DataLoader\n",
    "\n",
    "train_dataloader = DataLoader(training_data, batch_size=64, shuffle=True)\n",
    "test_dataloader = DataLoader(test_data, batch_size=64, shuffle=True)"
   ]
  },
  {
   "cell_type": "markdown",
   "id": "f6288953-d8e1-49c2-a1dd-561f43b2272e",
   "metadata": {
    "jp-MarkdownHeadingCollapsed": true
   },
   "source": [
    "### Iterate through the DataLoader\n",
    "Loaded dataset into DataLoader, can iterate through dataset as needed. \n",
    "\\\n",
    "iteration below return batch of `train_features` and `train_labels` (`batch_size=64` features + labels repectively). As `shuffle=True`, after each epoch, all batches of data is shuffled. (for more control over data loading order, look at samplers)."
   ]
  },
  {
   "cell_type": "code",
   "execution_count": 31,
   "id": "b8aa1ca2-cd94-432e-8e90-6221e342623a",
   "metadata": {},
   "outputs": [
    {
     "name": "stdout",
     "output_type": "stream",
     "text": [
      "Feature batch shape: torch.Size([64, 1, 28, 28])\n",
      "Labels batch shape: torch.Size([64])\n"
     ]
    },
    {
     "data": {
      "image/png": "[encoded data removed]",
      "text/plain": [
       "<Figure size 640x480 with 1 Axes>"
      ]
     },
     "metadata": {},
     "output_type": "display_data"
    },
    {
     "name": "stdout",
     "output_type": "stream",
     "text": [
      "Label: 8\n"
     ]
    }
   ],
   "source": [
    "# Display image and label.\n",
    "train_features, train_labels = next(iter(train_dataloader))\n",
    "print(f\"Feature batch shape: {train_features.size()}\")\n",
    "print(f\"Labels batch shape: {train_labels.size()}\")\n",
    "img = train_features[0].squeeze()\n",
    "label = train_labels[0]\n",
    "plt.imshow(img, cmap=\"gray\")\n",
    "plt.show()\n",
    "print(f\"Label: {label}\")"
   ]
  },
  {
   "cell_type": "markdown",
   "id": "cb8290c1-ccff-4ea2-b9dd-21a61ffc7ebe",
   "metadata": {
    "jp-MarkdownHeadingCollapsed": true
   },
   "source": [
    "## Transforms\n",
    "Data does not always come in final processed form needed for training ML algorithms. \n",
    "\\\n",
    "Transforms = perform some manipulation of data -> suitable for training.\n",
    "\\\n",
    "TorchVision dataset -> 2 parameters: `transform` (modify the features of the image) and `target_transform` (modify the labels). Both accept callables containing transformation logic.\n",
    "\\\n",
    "FashionMNIST are in PIL image format, labels = integers. For training, need features as normalised tensors, and labels as one-hot encoded tensors. To make these trandformations, use `ToTensor` and `Lambda`."
   ]
  },
  {
   "cell_type": "code",
   "execution_count": 32,
   "id": "6e550614-fee1-4aa0-a2a3-67c69aeca869",
   "metadata": {},
   "outputs": [],
   "source": [
    "import torch\n",
    "from torchvision import datasets\n",
    "from torchvision.transforms import ToTensor, Lambda\n",
    "\n",
    "ds = datasets.FashionMNIST(\n",
    "    root=\"data\",\n",
    "    train=True,\n",
    "    download=True,\n",
    "    transform=ToTensor(),\n",
    "    target_transform=Lambda(lambda y: torch.zeros(10, dtype=torch.float).scatter_(0, torch.tensor(y), value=1))\n",
    ")"
   ]
  },
  {
   "cell_type": "markdown",
   "id": "78add2b5-675f-4546-be37-56587a3d7d5e",
   "metadata": {},
   "source": [
    "### `ToTensor()`\n",
    "* convert any PIL image / NumPy `ndarray` -> `FloatTensor` + scale image pixel intensity values [0.,1.]"
   ]
  },
  {
   "cell_type": "markdown",
   "id": "95107b62-b9a3-498c-a5ce-b1d19884a1af",
   "metadata": {},
   "source": [
    "### `Lambda` transformations\n",
    "* apply any user-defined lambda function. code below turn integer -> one-hot encoded tensor.\n",
    "* create 0 tensor of size 10 (number of labels in our dataset) + call `scatter_`, assign `value=1` on index as given by label `y`"
   ]
  },
  {
   "cell_type": "code",
   "execution_count": 33,
   "id": "41b489a9-1e3f-49ab-9e91-a61cb41a01b6",
   "metadata": {},
   "outputs": [],
   "source": [
    "target_transform = Lambda(lambda y: torch.zeros(\n",
    "    10, dtype=torch.float).scatter_(dim=0, index=torch.tensor(y), value=1))"
   ]
  },
  {
   "cell_type": "markdown",
   "id": "ff575491-94bc-479c-9742-2f110e5109f6",
   "metadata": {
    "jp-MarkdownHeadingCollapsed": true
   },
   "source": [
    "## Building a Neural network\n",
    "* NN = layers / modules performing operations on data\n",
    "    * NN is module itself, consisting of other modules (layers)\n",
    "* torch.nn -> all building blocks for making own NN\n",
    "This example is building a NN to classify images in FashionMNIST dataset."
   ]
  },
  {
   "cell_type": "code",
   "execution_count": 34,
   "id": "e697152e-8905-45b6-a72e-e8c825c26407",
   "metadata": {},
   "outputs": [],
   "source": [
    "import os\n",
    "import torch\n",
    "from torch import nn\n",
    "from torch.utils.data import DataLoader\n",
    "from torchvision import datasets, transforms"
   ]
  },
  {
   "cell_type": "markdown",
   "id": "a4d0d929-5c27-4045-9bdb-76e2611867b2",
   "metadata": {
    "jp-MarkdownHeadingCollapsed": true
   },
   "source": [
    "### get device for training\n",
    "* want to train on GPU or MPS if available."
   ]
  },
  {
   "cell_type": "code",
   "execution_count": 35,
   "id": "15f10ccd-3e0b-4698-b8da-9ea648782812",
   "metadata": {},
   "outputs": [
    {
     "name": "stdout",
     "output_type": "stream",
     "text": [
      "Using cpu device\n"
     ]
    }
   ],
   "source": [
    "device = (\n",
    "    \"cuda\"\n",
    "    if torch.cuda.is_available()\n",
    "    else \"mps\"\n",
    "    if torch.backends.mps.is_available()\n",
    "    else \"cpu\"\n",
    ")\n",
    "print(f\"Using {device} device\")"
   ]
  },
  {
   "cell_type": "markdown",
   "id": "ae079d3b-e1f8-4d10-8c4a-204dc8190ab3",
   "metadata": {
    "jp-MarkdownHeadingCollapsed": true
   },
   "source": [
    "### define the class\n",
    "* use `nn.Module`, initalise NN layers in `__init__`\n",
    "* `nn.Module` subclass implements operations on input data in `forward` method"
   ]
  },
  {
   "cell_type": "code",
   "execution_count": 36,
   "id": "e5469704-dbca-4f5b-a505-adce5cfc2d1a",
   "metadata": {},
   "outputs": [],
   "source": [
    "class NeuralNetwork(nn.Module):\n",
    "    def __init__(self):\n",
    "        super().__init__()\n",
    "        self.flatten = nn.Flatten()\n",
    "        self.linear_relu_stack = nn.Sequential(\n",
    "            nn.Linear(28*28, 512),\n",
    "            nn.ReLU(),\n",
    "            nn.Linear(512, 512),\n",
    "            nn.ReLU(),\n",
    "            nn.Linear(512, 10),\n",
    "        )\n",
    "\n",
    "    def forward(self, x):\n",
    "        x = self.flatten(x)\n",
    "        logits = self.linear_relu_stack(x)\n",
    "        return logits"
   ]
  },
  {
   "cell_type": "code",
   "execution_count": 37,
   "id": "8ad4fa52-d348-4027-94a4-fae440a92c48",
   "metadata": {},
   "outputs": [
    {
     "name": "stdout",
     "output_type": "stream",
     "text": [
      "NeuralNetwork(\n",
      "  (flatten): Flatten(start_dim=1, end_dim=-1)\n",
      "  (linear_relu_stack): Sequential(\n",
      "    (0): Linear(in_features=784, out_features=512, bias=True)\n",
      "    (1): ReLU()\n",
      "    (2): Linear(in_features=512, out_features=512, bias=True)\n",
      "    (3): ReLU()\n",
      "    (4): Linear(in_features=512, out_features=10, bias=True)\n",
      "  )\n",
      ")\n"
     ]
    }
   ],
   "source": [
    "# We create an instance of NeuralNetwork, and move it to the device, and print its structure.\n",
    "model = NeuralNetwork().to(device)\n",
    "print(model)"
   ]
  },
  {
   "cell_type": "markdown",
   "id": "e3070310-500b-4e0e-a705-d2b69d430c83",
   "metadata": {},
   "source": [
    "use the model, pass input data -> execute model `forward` + background operations \n",
    "\\\n",
    "don't call `model.forward()` directly\n",
    "* this would return 2D tensor + dim = 0 -> output of 10 predicted values for each class. dim = 1 -> individual values of each output\n",
    "* prediction probabilities are attained by passing through instance of `nn.Softmax`"
   ]
  },
  {
   "cell_type": "code",
   "execution_count": 38,
   "id": "f4645230-f476-4853-899d-77247bc5c003",
   "metadata": {},
   "outputs": [
    {
     "name": "stdout",
     "output_type": "stream",
     "text": [
      "Predicted class: tensor([7])\n"
     ]
    }
   ],
   "source": [
    "X = torch.rand(1, 28, 28, device=device)\n",
    "logits = model(X)\n",
    "pred_probab = nn.Softmax(dim=1)(logits)\n",
    "y_pred = pred_probab.argmax(1)\n",
    "print(f\"Predicted class: {y_pred}\")"
   ]
  },
  {
   "cell_type": "markdown",
   "id": "d3b2de58-89a6-48e3-b54d-37534adb932f",
   "metadata": {},
   "source": [
    "### Model layers\n",
    "* for example, we are looking at minibatch of 3 images, 28x28 size"
   ]
  },
  {
   "cell_type": "code",
   "execution_count": 39,
   "id": "7e2f635d-6e07-44bc-881a-c24cd1277420",
   "metadata": {},
   "outputs": [
    {
     "name": "stdout",
     "output_type": "stream",
     "text": [
      "torch.Size([3, 28, 28])\n"
     ]
    }
   ],
   "source": [
    "input_image = torch.rand(3,28,28)\n",
    "print(input_image.size())"
   ]
  },
  {
   "cell_type": "markdown",
   "id": "8c8d1008-b5f0-453f-9e86-b1becee1f4b3",
   "metadata": {},
   "source": [
    "#### `nn.Flatten`\n",
    "convert each 2D 28x28 image -> contiguous array (store data adjacently) of 784 pixel values\n",
    "\\\n",
    "(minibach dimension, dim =0, is maintained)"
   ]
  },
  {
   "cell_type": "code",
   "execution_count": 40,
   "id": "69958044-228a-45e8-b047-01ded974eaae",
   "metadata": {},
   "outputs": [
    {
     "name": "stdout",
     "output_type": "stream",
     "text": [
      "torch.Size([3, 784])\n"
     ]
    }
   ],
   "source": [
    "flatten = nn.Flatten()\n",
    "flat_image = flatten(input_image)\n",
    "print(flat_image.size())"
   ]
  },
  {
   "cell_type": "markdown",
   "id": "aa4b0524-ca97-4ff6-b19c-d5e94e57d8bf",
   "metadata": {},
   "source": [
    "#### `nn.Linear`\n",
    "apply linear transformation on input using its stored weights and biases"
   ]
  },
  {
   "cell_type": "code",
   "execution_count": 41,
   "id": "59c9c03c-99d9-4e9e-bb38-74c99ffe5ace",
   "metadata": {},
   "outputs": [
    {
     "name": "stdout",
     "output_type": "stream",
     "text": [
      "torch.Size([3, 20])\n"
     ]
    }
   ],
   "source": [
    "layer1 = nn.Linear(in_features=28*28, out_features=20)\n",
    "hidden1 = layer1(flat_image)\n",
    "print(hidden1.size())"
   ]
  },
  {
   "cell_type": "markdown",
   "id": "4156d50e-551f-406b-94b1-f1718e3bb5d2",
   "metadata": {},
   "source": [
    "#### `nn.ReLU`\n",
    "Non-linear activations -> complex relationships between input and output\n",
    "\\\n",
    "This example uses nn.ReLU between layers, but other activation functions"
   ]
  },
  {
   "cell_type": "code",
   "execution_count": 42,
   "id": "c71d3af6-e3b7-4474-8ec8-a0c1ee10d2de",
   "metadata": {},
   "outputs": [
    {
     "name": "stdout",
     "output_type": "stream",
     "text": [
      "Before ReLU: tensor([[-0.5939, -0.0030, -0.3217, -0.0595, -0.7644, -0.1740, -0.2236,  0.0782,\n",
      "          0.5080,  0.0457, -0.0352,  0.0995, -0.1398,  0.1044,  0.3734,  0.2380,\n",
      "         -0.0014,  0.4288,  0.0829, -0.1092],\n",
      "        [-0.1002, -0.3193, -0.0795, -0.0931, -1.1045, -0.0639,  0.1388,  0.2161,\n",
      "          0.4797,  0.1533, -0.0573,  0.2127, -0.4045,  0.1167,  0.1573, -0.1296,\n",
      "          0.1311,  0.5054, -0.1335,  0.0862],\n",
      "        [-0.5594, -0.2041, -0.3722, -0.2129, -0.9039, -0.3412,  0.0793,  0.2222,\n",
      "          0.8916, -0.0802, -0.6052,  0.1528,  0.0109, -0.1171,  0.1321,  0.1343,\n",
      "          0.0975,  0.2427, -0.1017, -0.3789]], grad_fn=<AddmmBackward0>)\n",
      "\n",
      "\n",
      "After ReLU: tensor([[0.0000, 0.0000, 0.0000, 0.0000, 0.0000, 0.0000, 0.0000, 0.0782, 0.5080,\n",
      "         0.0457, 0.0000, 0.0995, 0.0000, 0.1044, 0.3734, 0.2380, 0.0000, 0.4288,\n",
      "         0.0829, 0.0000],\n",
      "        [0.0000, 0.0000, 0.0000, 0.0000, 0.0000, 0.0000, 0.1388, 0.2161, 0.4797,\n",
      "         0.1533, 0.0000, 0.2127, 0.0000, 0.1167, 0.1573, 0.0000, 0.1311, 0.5054,\n",
      "         0.0000, 0.0862],\n",
      "        [0.0000, 0.0000, 0.0000, 0.0000, 0.0000, 0.0000, 0.0793, 0.2222, 0.8916,\n",
      "         0.0000, 0.0000, 0.1528, 0.0109, 0.0000, 0.1321, 0.1343, 0.0975, 0.2427,\n",
      "         0.0000, 0.0000]], grad_fn=<ReluBackward0>)\n"
     ]
    }
   ],
   "source": [
    "print(f\"Before ReLU: {hidden1}\\n\\n\")\n",
    "hidden1 = nn.ReLU()(hidden1)\n",
    "print(f\"After ReLU: {hidden1}\")"
   ]
  },
  {
   "cell_type": "markdown",
   "id": "e004d889-6392-4ee3-94a2-049e965feaf1",
   "metadata": {},
   "source": [
    "#### `nn.Sequential`\n",
    "A ordered container of modules\n",
    "* data pass through all modules in same order as defined\n",
    "* can be used to put together a quick network like `seq_modules`"
   ]
  },
  {
   "cell_type": "code",
   "execution_count": 43,
   "id": "ea16067e-530c-4eb0-b5ae-1a52383feddc",
   "metadata": {},
   "outputs": [],
   "source": [
    "seq_modules = nn.Sequential(\n",
    "    flatten,\n",
    "    layer1,\n",
    "    nn.ReLU(),\n",
    "    nn.Linear(20, 10)\n",
    ")\n",
    "input_image = torch.rand(3,28,28)\n",
    "logits = seq_modules(input_image)"
   ]
  },
  {
   "cell_type": "markdown",
   "id": "c6d0bb00-a132-4916-aad8-430b28f77953",
   "metadata": {},
   "source": [
    "#### `nn.Softmax`\n",
    "* last layer in NN, returning logits, raw values in [-infinity, infinity] + passed to softmax module\n",
    "* logits scaled: [0,1] -> predicted probabilities for each class.\n",
    "* `dim` parameter -> dimension values must sum to 1"
   ]
  },
  {
   "cell_type": "code",
   "execution_count": 44,
   "id": "2ee2c14f-5a6a-42c9-88c9-a4db106c3de1",
   "metadata": {},
   "outputs": [],
   "source": [
    "softmax = nn.Softmax(dim=1)\n",
    "pred_probab = softmax(logits)"
   ]
  },
  {
   "cell_type": "markdown",
   "id": "1a6ae25d-8fff-44c6-8a08-2738c4cf894f",
   "metadata": {},
   "source": [
    "### Model parameters\n",
    "many layers in NN are parameterised (this context-> weights + biases optimised during training)\n",
    "* subclassing `nn.Module` - track all fields defined inside model object + make parameters accessible - using `parameters()` or `named_parameters()` methods"
   ]
  },
  {
   "cell_type": "code",
   "execution_count": 45,
   "id": "21cf4b4d-d0d4-41f3-a4bd-0f32e591b5a0",
   "metadata": {},
   "outputs": [
    {
     "name": "stdout",
     "output_type": "stream",
     "text": [
      "Model structure: NeuralNetwork(\n",
      "  (flatten): Flatten(start_dim=1, end_dim=-1)\n",
      "  (linear_relu_stack): Sequential(\n",
      "    (0): Linear(in_features=784, out_features=512, bias=True)\n",
      "    (1): ReLU()\n",
      "    (2): Linear(in_features=512, out_features=512, bias=True)\n",
      "    (3): ReLU()\n",
      "    (4): Linear(in_features=512, out_features=10, bias=True)\n",
      "  )\n",
      ")\n",
      "\n",
      "\n",
      "Layer: linear_relu_stack.0.weight | Size: torch.Size([512, 784]) | Values : tensor([[ 0.0026,  0.0021, -0.0062,  ..., -0.0354, -0.0034, -0.0185],\n",
      "        [ 0.0275,  0.0120, -0.0339,  ..., -0.0083,  0.0157, -0.0097]],\n",
      "       grad_fn=<SliceBackward0>) \n",
      "\n",
      "Layer: linear_relu_stack.0.bias | Size: torch.Size([512]) | Values : tensor([-0.0109,  0.0101], grad_fn=<SliceBackward0>) \n",
      "\n",
      "Layer: linear_relu_stack.2.weight | Size: torch.Size([512, 512]) | Values : tensor([[ 0.0383,  0.0160,  0.0279,  ..., -0.0217,  0.0060, -0.0043],\n",
      "        [-0.0128, -0.0356,  0.0256,  ..., -0.0397,  0.0324, -0.0419]],\n",
      "       grad_fn=<SliceBackward0>) \n",
      "\n",
      "Layer: linear_relu_stack.2.bias | Size: torch.Size([512]) | Values : tensor([0.0262, 0.0132], grad_fn=<SliceBackward0>) \n",
      "\n",
      "Layer: linear_relu_stack.4.weight | Size: torch.Size([10, 512]) | Values : tensor([[-0.0174,  0.0351, -0.0134,  ..., -0.0192, -0.0235,  0.0225],\n",
      "        [-0.0249,  0.0233, -0.0177,  ...,  0.0124, -0.0068, -0.0245]],\n",
      "       grad_fn=<SliceBackward0>) \n",
      "\n",
      "Layer: linear_relu_stack.4.bias | Size: torch.Size([10]) | Values : tensor([-0.0177,  0.0201], grad_fn=<SliceBackward0>) \n",
      "\n"
     ]
    }
   ],
   "source": [
    "# this example: iterate over each parameter + print size + preview of values\n",
    "print(f\"Model structure: {model}\\n\\n\")\n",
    "\n",
    "for name, param in model.named_parameters():\n",
    "    print(f\"Layer: {name} | Size: {param.size()} | Values : {param[:2]} \\n\")"
   ]
  },
  {
   "cell_type": "markdown",
   "id": "0bc5f5e1-d731-4687-a64d-ccf79d31c0e9",
   "metadata": {
    "jp-MarkdownHeadingCollapsed": true
   },
   "source": [
    "## Automatic differentiation (backpropogation)\n",
    "### using `torch.autograd`\n",
    "* training NN, mostly use backpropogation -> parameters (weights) are adjusted according to gradient of loss function wrt given parameter\n",
    "* compute gradients, PyTorch -> automatic differentiation `torch.autograd` -> automatic gradient for any graph"
   ]
  },
  {
   "cell_type": "code",
   "execution_count": 46,
   "id": "6d815cbb-d1ee-4680-8163-0b1d237f2274",
   "metadata": {},
   "outputs": [],
   "source": [
    "#e.g. 1 layer NN, input `x`, parameters `w` and `b` + loss function, is defined in PyTorch: \n",
    "import torch\n",
    "\n",
    "x = torch.ones(5)  # input tensor\n",
    "y = torch.zeros(3)  # expected output\n",
    "w = torch.randn(5, 3, requires_grad=True)\n",
    "b = torch.randn(3, requires_grad=True)\n",
    "z = torch.matmul(x, w)+b\n",
    "loss = torch.nn.functional.binary_cross_entropy_with_logits(z, y)"
   ]
  },
  {
   "cell_type": "markdown",
   "id": "6df5e3ce-8d38-411b-9e5f-d665b5c37229",
   "metadata": {},
   "source": [
    "### Tensors, functions and computional graph\n",
    "this pic = computational graph"
   ]
  },
  {
   "cell_type": "code",
   "execution_count": 47,
   "id": "94956ac4-a602-43a7-ae05-7c56c9ed528d",
   "metadata": {},
   "outputs": [
    {
     "data": {
      "image/png": "[encoded data removed]",
      "text/plain": [
       "<IPython.core.display.Image object>"
      ]
     },
     "execution_count": 47,
     "metadata": {
      "image/png": {
       "height": 300,
       "width": 500
      }
     },
     "output_type": "execute_result"
    }
   ],
   "source": [
    "from IPython.display import Image\n",
    "Image(filename=\"images/comp-graph.png\", width=500, height=300)"
   ]
  },
  {
   "cell_type": "markdown",
   "id": "046eb950-ce80-4b69-98db-922ede431a0b",
   "metadata": {},
   "source": [
    "* `x` = input\n",
    "* `w` and `b` are parameters -> need to optimise\n",
    "    * have to calculate gradient of loss function wrt those variables - use `requires_grad` properties of those tensors\n",
    "      * `reuquires_grad` - do when creating a tensor, or later using `x.requires_grad_(True)`\n",
    "* function for creating computational graph - can do forward direction and backward propagation\n",
    "  * backpropogation is stored in `grad_fn` propery of tensor "
   ]
  },
  {
   "cell_type": "code",
   "execution_count": 48,
   "id": "5afdb402-c9f0-49af-b482-9b1a7f8a069c",
   "metadata": {},
   "outputs": [
    {
     "name": "stdout",
     "output_type": "stream",
     "text": [
      "Gradient function for z = <AddBackward0 object at 0x7f621c4f7610>\n",
      "Gradient function for loss = <BinaryCrossEntropyWithLogitsBackward0 object at 0x7f621c4f7c40>\n"
     ]
    }
   ],
   "source": [
    "print(f\"Gradient function for z = {z.grad_fn}\")\n",
    "print(f\"Gradient function for loss = {loss.grad_fn}\")"
   ]
  },
  {
   "cell_type": "markdown",
   "id": "e36ef058-a7bd-4e33-80d7-d70402a55fd6",
   "metadata": {},
   "source": [
    "### computing gradients\n",
    "* optimise weights of parameters in NN - need derivatives of loss function wrt parameters\n",
    "  i.e. $\\frac{\\delta loss}{\\delta w}$ and $\\frac{\\delta loss}{\\delta b}$\n",
    "  * for some fixed values of `x` and `y`\n",
    "  * compute derivatives: `loss.backward()` - retrieve values from `w.grad` and `b.grad`\n",
    "* only obtain `grad` properties for leaf nodes of computational graph - `requires_grad` property -> `True` (all other nodes in graph - gradients not available)\n",
    "* perform gradient calculations using `backward` once for given graph - if need several `backward` calls on same graph, pass `retain_graph = True` to `backward` call"
   ]
  },
  {
   "cell_type": "code",
   "execution_count": 49,
   "id": "c9ade2fe-5f16-434f-8842-89c7365947da",
   "metadata": {},
   "outputs": [
    {
     "name": "stdout",
     "output_type": "stream",
     "text": [
      "tensor([[0.0046, 0.2537, 0.0006],\n",
      "        [0.0046, 0.2537, 0.0006],\n",
      "        [0.0046, 0.2537, 0.0006],\n",
      "        [0.0046, 0.2537, 0.0006],\n",
      "        [0.0046, 0.2537, 0.0006]])\n",
      "tensor([0.0046, 0.2537, 0.0006])\n"
     ]
    }
   ],
   "source": [
    "loss.backward()\n",
    "print(w.grad)\n",
    "print(b.grad)"
   ]
  },
  {
   "cell_type": "markdown",
   "id": "126f288e-962b-46df-a309-f99b215d8bf9",
   "metadata": {},
   "source": [
    "### Disable gradient tracking\n",
    "* default, tensors with `requires_grad = True` - track computational history + support gradient computation\n",
    "* sometimes don't need - train model + apply input (only forward computation) - stop tracking computation\n",
    "  * also pos:\n",
    "      * mark parameters in neural network as frozen parameters\n",
    "      * speed up computations only doing forward pss - computations don't track gradients = more efficient\n",
    "  * surround computation code `torch.no_grad()` block:"
   ]
  },
  {
   "cell_type": "code",
   "execution_count": 50,
   "id": "b58140f7-85fe-4397-b734-d2fa08ccf5eb",
   "metadata": {
    "jupyter": {
     "source_hidden": true
    }
   },
   "outputs": [
    {
     "name": "stdout",
     "output_type": "stream",
     "text": [
      "True\n",
      "False\n"
     ]
    }
   ],
   "source": [
    "z = torch.matmul(x, w)+b\n",
    "print(z.requires_grad)\n",
    "\n",
    "with torch.no_grad():\n",
    "    z = torch.matmul(x, w)+b\n",
    "print(z.requires_grad)"
   ]
  },
  {
   "cell_type": "code",
   "execution_count": 51,
   "id": "20d1e7ae-730c-402d-b690-52aa8fa08378",
   "metadata": {
    "jupyter": {
     "source_hidden": true
    }
   },
   "outputs": [
    {
     "name": "stdout",
     "output_type": "stream",
     "text": [
      "False\n"
     ]
    }
   ],
   "source": [
    "# can also do this, using `detach()` method on tensor:\n",
    "z = torch.matmul(x, w)+b\n",
    "z_det = z.detach()\n",
    "print(z_det.requires_grad)"
   ]
  },
  {
   "cell_type": "markdown",
   "id": "6d20a37f-7ffb-4db1-8456-877799756753",
   "metadata": {},
   "source": [
    "### more on Computational graphs\n",
    "* autograd keep record of data (tensors) + all executed operations (+ resulting new tensors) -> directed acyclinc graph (DAG)\n",
    "* DAG: leaves = input tensors, roots = output tensors. trace graph root -> leaves, can automatically compute gradients using chain rule\n",
    "\\\n",
    "\\\n",
    "forward pass, 2 simultaneous things `autograd` does:\n",
    "* run requested operation -> compute resulting tensor\n",
    "* maintain operation's gradient function in DAG\n",
    "\\\n",
    "\\\n",
    "backwards pass occur when `.backward()` is called on DAG root, `autograd` then:\n",
    "* compute gradients from each `.grad_fn`\n",
    "* accumulate in respective tensor's `.grad` attribute\n",
    "* use chain rule, propagate -> leaf tensors\n",
    "\\\n",
    "DAGs are dynamic in PyTorch - graph recreated from scratch, after each `.backward()` call, autograd populates new graph -> control flow statements in model + change shape, size, operations at each iteration if needed."
   ]
  },
  {
   "cell_type": "markdown",
   "id": "f2faf64c-2bbc-43ec-ad89-da84c88c576b",
   "metadata": {
    "jp-MarkdownHeadingCollapsed": true
   },
   "source": [
    "## Optimimise model parameters\n",
    "* now with a model + data - time to , validate, test model + optimise parameters on our data.\n",
    "* Training is iterative process, each iteration - model make inference + calculate loss (compared to ground truth - i.e. the error)\n",
    "* collect derivative of error wrt parameters (as saw previously) + optimise parameters using gradient descent."
   ]
  },
  {
   "cell_type": "code",
   "execution_count": 1,
   "id": "dd129bba-cfd4-489d-8a03-f1c91546f342",
   "metadata": {},
   "outputs": [],
   "source": [
    "# this is from previous sections dataset + dataloaders and build model\n",
    "import torch\n",
    "from torch import nn\n",
    "from torch.utils.data import DataLoader\n",
    "from torchvision import datasets\n",
    "from torchvision.transforms import ToTensor\n",
    "\n",
    "training_data = datasets.FashionMNIST(\n",
    "    root=\"data\",\n",
    "    train=True,\n",
    "    download=True,\n",
    "    transform=ToTensor()\n",
    ")\n",
    "\n",
    "test_data = datasets.FashionMNIST(\n",
    "    root=\"data\",\n",
    "    train=False,\n",
    "    download=True,\n",
    "    transform=ToTensor()\n",
    ")\n",
    "\n",
    "train_dataloader = DataLoader(training_data, batch_size=64)\n",
    "test_dataloader = DataLoader(test_data, batch_size=64)\n",
    "\n",
    "class NeuralNetwork(nn.Module):\n",
    "    def __init__(self):\n",
    "        super().__init__()\n",
    "        self.flatten = nn.Flatten()\n",
    "        self.linear_relu_stack = nn.Sequential(\n",
    "            nn.Linear(28*28, 512),\n",
    "            nn.ReLU(),\n",
    "            nn.Linear(512, 512),\n",
    "            nn.ReLU(),\n",
    "            nn.Linear(512, 10),\n",
    "        )\n",
    "\n",
    "    def forward(self, x):\n",
    "        x = self.flatten(x)\n",
    "        logits = self.linear_relu_stack(x)\n",
    "        return logits\n",
    "\n",
    "model = NeuralNetwork()"
   ]
  },
  {
   "cell_type": "markdown",
   "id": "da1c5200-67b5-4f7d-88bf-42a9094ef764",
   "metadata": {},
   "source": [
    "### Hyperparameters \n",
    "Hyperparameters = adjustable parameters - let you control model optimisation process. Different hyperparameter values impact model training + convergence rates\n",
    "\\\n",
    "defined for training:\n",
    "* number of epochs - number of times iterate over dataset\n",
    "* batch size - number of examples propagated through network before parameters are updated\n",
    "* learning rate - how much model parameters are updated at each batch/epoch. smaller = slow learning speed, large values = unpredictable behaviour in training"
   ]
  },
  {
   "cell_type": "code",
   "execution_count": 2,
   "id": "6ec62c43-4e01-4f65-b8cd-88f75307d4d7",
   "metadata": {},
   "outputs": [],
   "source": [
    "learning_rate = 1e-3\n",
    "batch_size = 64\n",
    "epochs = 5"
   ]
  },
  {
   "cell_type": "markdown",
   "id": "d72a323d-9668-4f30-b575-310d62edf872",
   "metadata": {
    "editable": true,
    "slideshow": {
     "slide_type": ""
    },
    "tags": []
   },
   "source": [
    "### Optimisation loop \n",
    "set our hyperparameters - can train + optimise model with optimisation loop. each iteration of optimisaion loop = epoch. consist of 2 parts:\n",
    "* train loop: iterate over training data + converge on optimal parameters\n",
    "* validation / test loop: iterate over validation set - check model performance is improving\n",
    "#### Loss function\n",
    "Untrained network is unlikely to give correct answer for training data. Loss measures degree of dissimilarity of obtained result to target value - we want to minimise this in training. Calculate loss: make prediction using inputs + compare to true data label value.\n",
    "\\\n",
    "Common loss functions: Mean Square Error - for regression, and Negative Log Loss for classification. `nn.CrossEntropyLoss` combine `nn.LogSoftmax` and `nn.NLLLoss`."
   ]
  },
  {
   "cell_type": "code",
   "execution_count": 3,
   "id": "c18d5fa8-70ac-4cbb-9505-0e5d18059dc4",
   "metadata": {},
   "outputs": [],
   "source": [
    "# Initialize the loss function\n",
    "loss_fn = nn.CrossEntropyLoss()"
   ]
  },
  {
   "cell_type": "markdown",
   "id": "0f75bc9f-04fb-4fd6-90d4-7fab9e2d3961",
   "metadata": {},
   "source": [
    "#### Optimiser\n",
    "Optimisation = process of adjusting model parameters -> reduce model error in each training step. Optimisation algorithms define how process is performed (e.g. stochastic gradient descent). Optimisation logic is encapsulated in optimiser object. Lots of different optimisers available - ADAM, RMSProp, working better for different models + data.\n",
    "\\\n",
    "initialise optimiser -> register model paramter that needs training + pass learning rate hyperparameter.\n",
    "\\\n",
    "in training loop, optimisation happens in 3 steps:\n",
    "1. call `optimizer.zero_grad()` -> reset gradients of model parameter. gradients by default add up -> prevent double counting -> explictly 0 at each iteration\n",
    "2. backpropogate prediction loss, call `loss.backward()`. PyTorch deposit gradient wrt each parameter\n",
    "3. with our gradients, call `optimizer.step()` -> adjust parameters by gradients collected in backward pass."
   ]
  },
  {
   "cell_type": "code",
   "execution_count": 4,
   "id": "e4508b55-903f-4899-9462-0a7b3486e096",
   "metadata": {},
   "outputs": [],
   "source": [
    "optimizer = torch.optim.SGD(model.parameters(), lr=learning_rate)"
   ]
  },
  {
   "cell_type": "markdown",
   "id": "00e9ae83-d6c6-4f0a-b96b-8b9053968eac",
   "metadata": {},
   "source": [
    "### Full implementation\n",
    "* define `train_loop` - loop over optimisation code + `test_loop` - evaluate model performance against test data"
   ]
  },
  {
   "cell_type": "code",
   "execution_count": 5,
   "id": "ca52086e-7c07-4e14-9993-282e61c578a9",
   "metadata": {},
   "outputs": [],
   "source": [
    "def train_loop(dataloader, model, loss_fn, optimizer):\n",
    "    size = len(dataloader.dataset)\n",
    "    # Set the model to training mode - important for batch normalization and dropout layers\n",
    "    # Unnecessary in this situation but added for best practices\n",
    "    model.train()\n",
    "    for batch, (X, y) in enumerate(dataloader):\n",
    "        # Compute prediction and loss\n",
    "        pred = model(X)\n",
    "        loss = loss_fn(pred, y)\n",
    "\n",
    "        # Backpropagation\n",
    "        loss.backward()\n",
    "        optimizer.step()\n",
    "        optimizer.zero_grad()\n",
    "\n",
    "        if batch % 100 == 0:\n",
    "            loss, current = loss.item(), batch * batch_size + len(X)\n",
    "            print(f\"loss: {loss:>7f}  [{current:>5d}/{size:>5d}]\")\n",
    "\n",
    "\n",
    "def test_loop(dataloader, model, loss_fn):\n",
    "    # Set the model to evaluation mode - important for batch normalization and dropout layers\n",
    "    # Unnecessary in this situation but added for best practices\n",
    "    model.eval()\n",
    "    size = len(dataloader.dataset)\n",
    "    num_batches = len(dataloader)\n",
    "    test_loss, correct = 0, 0\n",
    "\n",
    "    # Evaluating the model with torch.no_grad() ensures that no gradients are computed during test mode\n",
    "    # also serves to reduce unnecessary gradient computations and memory usage for tensors with requires_grad=True\n",
    "    with torch.no_grad():\n",
    "        for X, y in dataloader:\n",
    "            pred = model(X)\n",
    "            test_loss += loss_fn(pred, y).item()\n",
    "            correct += (pred.argmax(1) == y).type(torch.float).sum().item()\n",
    "\n",
    "    test_loss /= num_batches\n",
    "    correct /= size\n",
    "    print(f\"Test Error: \\n Accuracy: {(100*correct):>0.1f}%, Avg loss: {test_loss:>8f} \\n\")"
   ]
  },
  {
   "cell_type": "markdown",
   "id": "0400b48d-d64e-41b1-89d4-06160bcc8a89",
   "metadata": {},
   "source": [
    "* initalise loss function + optimiser, pass to `train_loop` + `test_loop`"
   ]
  },
  {
   "cell_type": "code",
   "execution_count": 6,
   "id": "76eb1642-8afc-4f38-a54f-4fd93d2b9323",
   "metadata": {
    "scrolled": true
   },
   "outputs": [
    {
     "name": "stdout",
     "output_type": "stream",
     "text": [
      "Epoch 1\n",
      "-------------------------------\n",
      "loss: 2.295000  [   64/60000]\n",
      "loss: 2.289303  [ 6464/60000]\n",
      "loss: 2.268004  [12864/60000]\n",
      "loss: 2.269858  [19264/60000]\n",
      "loss: 2.241323  [25664/60000]\n",
      "loss: 2.215141  [32064/60000]\n",
      "loss: 2.220585  [38464/60000]\n",
      "loss: 2.185184  [44864/60000]\n",
      "loss: 2.183614  [51264/60000]\n",
      "loss: 2.152002  [57664/60000]\n",
      "Test Error: \n",
      " Accuracy: 40.5%, Avg loss: 2.146614 \n",
      "\n",
      "Epoch 2\n",
      "-------------------------------\n",
      "loss: 2.151177  [   64/60000]\n",
      "loss: 2.141650  [ 6464/60000]\n",
      "loss: 2.080839  [12864/60000]\n",
      "loss: 2.105085  [19264/60000]\n",
      "loss: 2.036443  [25664/60000]\n",
      "loss: 1.981956  [32064/60000]\n",
      "loss: 2.008562  [38464/60000]\n",
      "loss: 1.925176  [44864/60000]\n",
      "loss: 1.933398  [51264/60000]\n",
      "loss: 1.857068  [57664/60000]\n",
      "Test Error: \n",
      " Accuracy: 50.6%, Avg loss: 1.855260 \n",
      "\n",
      "Epoch 3\n",
      "-------------------------------\n",
      "loss: 1.887461  [   64/60000]\n",
      "loss: 1.855780  [ 6464/60000]\n",
      "loss: 1.733259  [12864/60000]\n",
      "loss: 1.782674  [19264/60000]\n",
      "loss: 1.658740  [25664/60000]\n",
      "loss: 1.625697  [32064/60000]\n",
      "loss: 1.647929  [38464/60000]\n",
      "loss: 1.551029  [44864/60000]\n",
      "loss: 1.580547  [51264/60000]\n",
      "loss: 1.472415  [57664/60000]\n",
      "Test Error: \n",
      " Accuracy: 58.3%, Avg loss: 1.489904 \n",
      "\n",
      "Epoch 4\n",
      "-------------------------------\n",
      "loss: 1.558525  [   64/60000]\n",
      "loss: 1.522234  [ 6464/60000]\n",
      "loss: 1.370591  [12864/60000]\n",
      "loss: 1.445409  [19264/60000]\n",
      "loss: 1.327289  [25664/60000]\n",
      "loss: 1.333902  [32064/60000]\n",
      "loss: 1.347278  [38464/60000]\n",
      "loss: 1.273114  [44864/60000]\n",
      "loss: 1.308821  [51264/60000]\n",
      "loss: 1.210217  [57664/60000]\n",
      "Test Error: \n",
      " Accuracy: 62.4%, Avg loss: 1.235604 \n",
      "\n",
      "Epoch 5\n",
      "-------------------------------\n",
      "loss: 1.311632  [   64/60000]\n",
      "loss: 1.293551  [ 6464/60000]\n",
      "loss: 1.126586  [12864/60000]\n",
      "loss: 1.234098  [19264/60000]\n",
      "loss: 1.113452  [25664/60000]\n",
      "loss: 1.144268  [32064/60000]\n",
      "loss: 1.164992  [38464/60000]\n",
      "loss: 1.102249  [44864/60000]\n",
      "loss: 1.141105  [51264/60000]\n",
      "loss: 1.055648  [57664/60000]\n",
      "Test Error: \n",
      " Accuracy: 64.5%, Avg loss: 1.077894 \n",
      "\n",
      "Epoch 6\n",
      "-------------------------------\n",
      "loss: 1.145923  [   64/60000]\n",
      "loss: 1.148909  [ 6464/60000]\n",
      "loss: 0.965947  [12864/60000]\n",
      "loss: 1.102544  [19264/60000]\n",
      "loss: 0.979137  [25664/60000]\n",
      "loss: 1.016452  [32064/60000]\n",
      "loss: 1.049960  [38464/60000]\n",
      "loss: 0.994285  [44864/60000]\n",
      "loss: 1.031284  [51264/60000]\n",
      "loss: 0.956013  [57664/60000]\n",
      "Test Error: \n",
      " Accuracy: 66.1%, Avg loss: 0.974913 \n",
      "\n",
      "Epoch 7\n",
      "-------------------------------\n",
      "loss: 1.029492  [   64/60000]\n",
      "loss: 1.053725  [ 6464/60000]\n",
      "loss: 0.855426  [12864/60000]\n",
      "loss: 1.014076  [19264/60000]\n",
      "loss: 0.892827  [25664/60000]\n",
      "loss: 0.925534  [32064/60000]\n",
      "loss: 0.973258  [38464/60000]\n",
      "loss: 0.924373  [44864/60000]\n",
      "loss: 0.954909  [51264/60000]\n",
      "loss: 0.888113  [57664/60000]\n",
      "Test Error: \n",
      " Accuracy: 67.4%, Avg loss: 0.904008 \n",
      "\n",
      "Epoch 8\n",
      "-------------------------------\n",
      "loss: 0.942855  [   64/60000]\n",
      "loss: 0.986743  [ 6464/60000]\n",
      "loss: 0.775578  [12864/60000]\n",
      "loss: 0.950531  [19264/60000]\n",
      "loss: 0.834446  [25664/60000]\n",
      "loss: 0.858047  [32064/60000]\n",
      "loss: 0.918492  [38464/60000]\n",
      "loss: 0.877639  [44864/60000]\n",
      "loss: 0.899224  [51264/60000]\n",
      "loss: 0.838652  [57664/60000]\n",
      "Test Error: \n",
      " Accuracy: 68.6%, Avg loss: 0.852516 \n",
      "\n",
      "Epoch 9\n",
      "-------------------------------\n",
      "loss: 0.875745  [   64/60000]\n",
      "loss: 0.936377  [ 6464/60000]\n",
      "loss: 0.715474  [12864/60000]\n",
      "loss: 0.902587  [19264/60000]\n",
      "loss: 0.792682  [25664/60000]\n",
      "loss: 0.806747  [32064/60000]\n",
      "loss: 0.876694  [38464/60000]\n",
      "loss: 0.844906  [44864/60000]\n",
      "loss: 0.857028  [51264/60000]\n",
      "loss: 0.800492  [57664/60000]\n",
      "Test Error: \n",
      " Accuracy: 70.1%, Avg loss: 0.813262 \n",
      "\n",
      "Epoch 10\n",
      "-------------------------------\n",
      "loss: 0.822024  [   64/60000]\n",
      "loss: 0.895959  [ 6464/60000]\n",
      "loss: 0.668271  [12864/60000]\n",
      "loss: 0.865261  [19264/60000]\n",
      "loss: 0.760790  [25664/60000]\n",
      "loss: 0.766901  [32064/60000]\n",
      "loss: 0.842464  [38464/60000]\n",
      "loss: 0.820472  [44864/60000]\n",
      "loss: 0.823855  [51264/60000]\n",
      "loss: 0.769657  [57664/60000]\n",
      "Test Error: \n",
      " Accuracy: 71.5%, Avg loss: 0.781903 \n",
      "\n",
      "Done!\n"
     ]
    }
   ],
   "source": [
    "loss_fn = nn.CrossEntropyLoss()\n",
    "optimizer = torch.optim.SGD(model.parameters(), lr=learning_rate)\n",
    "\n",
    "epochs = 10\n",
    "for t in range(epochs):\n",
    "    print(f\"Epoch {t+1}\\n-------------------------------\")\n",
    "    train_loop(train_dataloader, model, loss_fn, optimizer)\n",
    "    test_loop(test_dataloader, model, loss_fn)\n",
    "print(\"Done!\")"
   ]
  },
  {
   "cell_type": "markdown",
   "id": "6d12a007-5481-46d3-8667-c45351bd62a2",
   "metadata": {
    "jp-MarkdownHeadingCollapsed": true
   },
   "source": [
    "## save and load the model\n",
    "how to persist model state, with saving, loading and running model predictions."
   ]
  },
  {
   "cell_type": "code",
   "execution_count": 7,
   "id": "a8b6917a-5294-43bd-9567-90a1cf704e24",
   "metadata": {},
   "outputs": [],
   "source": [
    "import torch\n",
    "import torchvision.models as models"
   ]
  },
  {
   "cell_type": "markdown",
   "id": "b8cc9e06-3f5a-4c4f-9b7a-1a29b0d2626a",
   "metadata": {},
   "source": [
    "### Saving and loading model weights\n",
    "PyTorch models -> store learned parameters in internal state dictionary: `state_dic` -save with `torch_save` method:"
   ]
  },
  {
   "cell_type": "code",
   "execution_count": 8,
   "id": "347fe5ed-0cfd-4c5a-91e7-f72718d01140",
   "metadata": {},
   "outputs": [
    {
     "name": "stderr",
     "output_type": "stream",
     "text": [
      "Downloading: \"https://download.pytorch.org/models/vgg16-397923af.pth\" to /home/users/esree/.cache/torch/hub/checkpoints/vgg16-397923af.pth\n",
      "100%|██████████| 528M/528M [00:03<00:00, 168MB/s] \n"
     ]
    }
   ],
   "source": [
    "model = models.vgg16(weights='IMAGENET1K_V1')\n",
    "torch.save(model.state_dict(), 'model_weights.pth')"
   ]
  },
  {
   "cell_type": "markdown",
   "id": "2162f383-8830-4dd3-b6fb-22ab96ca7aed",
   "metadata": {},
   "source": [
    "load model weights\n",
    "1. create instance of same model\n",
    "2. load parameters using `load_state_dic()`\n",
    "\\\n",
    "make sure call `model.eval()` before inferencing to set dropout + batch normalisation layers to evaluation mode. (not doing this = inconsistent inference results)."
   ]
  },
  {
   "cell_type": "code",
   "execution_count": 9,
   "id": "ba792e47-8094-4870-a9c3-281073db4a3f",
   "metadata": {},
   "outputs": [
    {
     "data": {
      "text/plain": [
       "VGG(\n",
       "  (features): Sequential(\n",
       "    (0): Conv2d(3, 64, kernel_size=(3, 3), stride=(1, 1), padding=(1, 1))\n",
       "    (1): ReLU(inplace=True)\n",
       "    (2): Conv2d(64, 64, kernel_size=(3, 3), stride=(1, 1), padding=(1, 1))\n",
       "    (3): ReLU(inplace=True)\n",
       "    (4): MaxPool2d(kernel_size=2, stride=2, padding=0, dilation=1, ceil_mode=False)\n",
       "    (5): Conv2d(64, 128, kernel_size=(3, 3), stride=(1, 1), padding=(1, 1))\n",
       "    (6): ReLU(inplace=True)\n",
       "    (7): Conv2d(128, 128, kernel_size=(3, 3), stride=(1, 1), padding=(1, 1))\n",
       "    (8): ReLU(inplace=True)\n",
       "    (9): MaxPool2d(kernel_size=2, stride=2, padding=0, dilation=1, ceil_mode=False)\n",
       "    (10): Conv2d(128, 256, kernel_size=(3, 3), stride=(1, 1), padding=(1, 1))\n",
       "    (11): ReLU(inplace=True)\n",
       "    (12): Conv2d(256, 256, kernel_size=(3, 3), stride=(1, 1), padding=(1, 1))\n",
       "    (13): ReLU(inplace=True)\n",
       "    (14): Conv2d(256, 256, kernel_size=(3, 3), stride=(1, 1), padding=(1, 1))\n",
       "    (15): ReLU(inplace=True)\n",
       "    (16): MaxPool2d(kernel_size=2, stride=2, padding=0, dilation=1, ceil_mode=False)\n",
       "    (17): Conv2d(256, 512, kernel_size=(3, 3), stride=(1, 1), padding=(1, 1))\n",
       "    (18): ReLU(inplace=True)\n",
       "    (19): Conv2d(512, 512, kernel_size=(3, 3), stride=(1, 1), padding=(1, 1))\n",
       "    (20): ReLU(inplace=True)\n",
       "    (21): Conv2d(512, 512, kernel_size=(3, 3), stride=(1, 1), padding=(1, 1))\n",
       "    (22): ReLU(inplace=True)\n",
       "    (23): MaxPool2d(kernel_size=2, stride=2, padding=0, dilation=1, ceil_mode=False)\n",
       "    (24): Conv2d(512, 512, kernel_size=(3, 3), stride=(1, 1), padding=(1, 1))\n",
       "    (25): ReLU(inplace=True)\n",
       "    (26): Conv2d(512, 512, kernel_size=(3, 3), stride=(1, 1), padding=(1, 1))\n",
       "    (27): ReLU(inplace=True)\n",
       "    (28): Conv2d(512, 512, kernel_size=(3, 3), stride=(1, 1), padding=(1, 1))\n",
       "    (29): ReLU(inplace=True)\n",
       "    (30): MaxPool2d(kernel_size=2, stride=2, padding=0, dilation=1, ceil_mode=False)\n",
       "  )\n",
       "  (avgpool): AdaptiveAvgPool2d(output_size=(7, 7))\n",
       "  (classifier): Sequential(\n",
       "    (0): Linear(in_features=25088, out_features=4096, bias=True)\n",
       "    (1): ReLU(inplace=True)\n",
       "    (2): Dropout(p=0.5, inplace=False)\n",
       "    (3): Linear(in_features=4096, out_features=4096, bias=True)\n",
       "    (4): ReLU(inplace=True)\n",
       "    (5): Dropout(p=0.5, inplace=False)\n",
       "    (6): Linear(in_features=4096, out_features=1000, bias=True)\n",
       "  )\n",
       ")"
      ]
     },
     "execution_count": 9,
     "metadata": {},
     "output_type": "execute_result"
    }
   ],
   "source": [
    "model = models.vgg16() # we do not specify ``weights``, i.e. create untrained model\n",
    "model.load_state_dict(torch.load('model_weights.pth'))\n",
    "model.eval()"
   ]
  },
  {
   "cell_type": "markdown",
   "id": "caf89db0-3d56-45e4-93d3-6d23b88de9bc",
   "metadata": {},
   "source": [
    "### Saving and loading models with shapes\n",
    "loading model weights\n",
    "\\\n",
    "(approach uses Python pickle module when serializing (saving in specif format) the model - rely on class definition to be available when loading the model)\n",
    "\\\n",
    "may also want to look at: https://pytorch.org/tutorials/recipes/recipes/saving_and_loading_a_general_checkpoint.html, saving + loading to a checkpoint in PyTorch\n",
    "\n",
    "1. instantiate model class (as defines structure of network)\n",
    "2. may want to save structure of this class together with model - pass `model` (not `model.state_dic()`) to saving function:"
   ]
  },
  {
   "cell_type": "code",
   "execution_count": 10,
   "id": "d2e70c10-f68f-442a-a237-afb2680d6d89",
   "metadata": {},
   "outputs": [],
   "source": [
    "torch.save(model, 'model.pth')"
   ]
  },
  {
   "cell_type": "markdown",
   "id": "e7338ed7-dcdb-4aeb-873d-6133aec2ec76",
   "metadata": {},
   "source": [
    "then can load model:"
   ]
  },
  {
   "cell_type": "code",
   "execution_count": 11,
   "id": "3b705aa8-548a-4db5-8642-b803708f28cb",
   "metadata": {},
   "outputs": [],
   "source": [
    "model = torch.load('model.pth')"
   ]
  },
  {
   "cell_type": "code",
   "execution_count": null,
   "id": "ff595372-db35-4085-9d05-5ef7a9250394",
   "metadata": {},
   "outputs": [],
   "source": []
  }
 ],
 "metadata": {
  "kernelspec": {
   "display_name": "Python 3 + Jaspy",
   "language": "python",
   "name": "jaspy"
  },
  "language_info": {
   "codemirror_mode": {
    "name": "ipython",
    "version": 3
   },
   "file_extension": ".py",
   "mimetype": "text/x-python",
   "name": "python",
   "nbconvert_exporter": "python",
   "pygments_lexer": "ipython3",
   "version": "3.11.9"
  }
 },
 "nbformat": 4,
 "nbformat_minor": 5
}
