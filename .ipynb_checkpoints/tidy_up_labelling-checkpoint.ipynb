{
 "cells": [
  {
   "cell_type": "markdown",
   "id": "730200c7-fdf9-4eda-898e-f6ca0c93d409",
   "metadata": {},
   "source": [
    "just some quick code for combining csvs, and making devloping script to move all the images into 1 folder. "
   ]
  },
  {
   "cell_type": "code",
   "execution_count": 4,
   "id": "711d709c-2ef5-4feb-891c-b48bb6644e0a",
   "metadata": {},
   "outputs": [],
   "source": [
    "import numpy as np\n",
    "import pandas as pd\n",
    "import os\n",
    "from PIL import Image\n",
    "from glob import glob\n",
    "import csv\n",
    "import matplotlib.pyplot as plt\n",
    "from IPython.display import clear_output\n",
    "import math\n",
    "import shutil\n",
    "import zipfile"
   ]
  },
  {
   "cell_type": "code",
   "execution_count": 20,
   "id": "4acfe0d8-1c17-4e16-9caf-075fd36f20b5",
   "metadata": {},
   "outputs": [],
   "source": [
    "base_path = '/gws/nopw/j04/dcmex/users/ezriab/image_labelling/'\n",
    "original_folders = ['2ds_2000_010125','2ds_3000_030125','2ds_5000_100125']\n",
    "new_folder = '2ds_10000_sample'\n",
    "new_save_loc = base_path+new_folder+'/'"
   ]
  },
  {
   "cell_type": "markdown",
   "id": "0fe40137-70e9-4de5-906b-c0192532afa1",
   "metadata": {
    "jp-MarkdownHeadingCollapsed": true
   },
   "source": [
    "## concat all csvs"
   ]
  },
  {
   "cell_type": "code",
   "execution_count": 7,
   "id": "24cb00fa-c201-4788-b190-2aa887486a00",
   "metadata": {},
   "outputs": [
    {
     "name": "stdout",
     "output_type": "stream",
     "text": [
      "file contains:2000 images, 2000 are labelled\n",
      "file contains:3000 images, 3000 are labelled\n",
      "file contains:5000 images, 5000 are labelled\n"
     ]
    }
   ],
   "source": [
    "specif_csv_2000_pth = os.path.join(base_path, original_folders[0],'2ds_2000_010125_2nd.csv')\n",
    "specif_csv_3000_pth = os.path.join(base_path, original_folders[1],'2ds_3000_030125_4th.csv')\n",
    "specif_csv_5000_pth = os.path.join(base_path, original_folders[2],'2ds_5000_100125_7th.csv')\n",
    "\n",
    "specif_csv_2000 = pd.read_csv(specif_csv_2000_pth)\n",
    "specif_csv_3000 = pd.read_csv(specif_csv_3000_pth)\n",
    "specif_csv_5000 = pd.read_csv(specif_csv_5000_pth)\n",
    "\n",
    "all_csvs = [specif_csv_2000,specif_csv_3000,specif_csv_5000]\n",
    "count = [2000, 3000, 5000]\n",
    "for i in range(len(all_csvs)):\n",
    "    count_value = all_csvs[i]['number_label'].count()\n",
    "    print(f'file contains:{count[i]} images, {count_value} are labelled')"
   ]
  },
  {
   "cell_type": "code",
   "execution_count": 23,
   "id": "a1209ce9-d019-4cdb-bd95-3bba6a1e6fda",
   "metadata": {
    "scrolled": true
   },
   "outputs": [
    {
     "name": "stdout",
     "output_type": "stream",
     "text": [
      "save path: /gws/nopw/j04/dcmex/users/ezriab/image_labelling/2ds_10000_sample/\n"
     ]
    }
   ],
   "source": [
    "combined_df = pd.concat(all_csvs, ignore_index=True)\n",
    "#combined_df['number_label'].count()\n",
    "if os.path.exists(new_save_loc):\n",
    "    print(f'save path: {new_save_loc}')\n",
    "\n",
    "csv_save_name = new_save_loc+'2ds_10000.csv'\n",
    "\n",
    "#combined_df.to_csv(csv_save_name, index=False)"
   ]
  },
  {
   "cell_type": "markdown",
   "id": "bf92cbdf-6180-4967-b395-0ea1bc7787d5",
   "metadata": {},
   "source": [
    "## moving images"
   ]
  },
  {
   "cell_type": "code",
   "execution_count": null,
   "id": "02299b7f-a8a6-4398-801d-e62954a1a3ff",
   "metadata": {},
   "outputs": [],
   "source": []
  },
  {
   "cell_type": "code",
   "execution_count": null,
   "id": "3d559a1b-dd21-409c-954e-ea85cc09508d",
   "metadata": {},
   "outputs": [],
   "source": []
  },
  {
   "cell_type": "code",
   "execution_count": null,
   "id": "e7f98b1a-5445-47c1-a733-2c1ff7159421",
   "metadata": {},
   "outputs": [],
   "source": []
  },
  {
   "cell_type": "code",
   "execution_count": null,
   "id": "86aacbb8-5ac4-4025-af78-7b08d1f8420f",
   "metadata": {},
   "outputs": [],
   "source": []
  },
  {
   "cell_type": "code",
   "execution_count": null,
   "id": "565cef36-6ae9-46d8-b030-28721f876cdd",
   "metadata": {},
   "outputs": [],
   "source": []
  }
 ],
 "metadata": {
  "kernelspec": {
   "display_name": "Python 3 + Jaspy",
   "language": "python",
   "name": "jaspy"
  },
  "language_info": {
   "codemirror_mode": {
    "name": "ipython",
    "version": 3
   },
   "file_extension": ".py",
   "mimetype": "text/x-python",
   "name": "python",
   "nbconvert_exporter": "python",
   "pygments_lexer": "ipython3",
   "version": "3.11.9"
  }
 },
 "nbformat": 4,
 "nbformat_minor": 5
}
