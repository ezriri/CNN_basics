{
 "cells": [
  {
   "cell_type": "markdown",
   "id": "1e91ebdc-867e-4eff-8041-ed33a7eeca9c",
   "metadata": {},
   "source": [
    "# image re-labelling code\n",
    "going over the images i have already labelled, and re-labelling them."
   ]
  },
  {
   "cell_type": "code",
   "execution_count": 2,
   "id": "d5cca462-16c9-4293-a7b5-380e8b25b6cb",
   "metadata": {},
   "outputs": [],
   "source": [
    "import numpy as np\n",
    "import pandas as pd\n",
    "import os\n",
    "#from PIL import Image\n",
    "from glob import glob\n",
    "import csv\n",
    "import matplotlib.pyplot as plt\n",
    "from IPython.display import clear_output\n",
    "import math\n",
    "import shutil"
   ]
  },
  {
   "cell_type": "code",
   "execution_count": 4,
   "id": "2f61af8f-1e67-4803-b7a7-d67a09d090f8",
   "metadata": {},
   "outputs": [
    {
     "name": "stdout",
     "output_type": "stream",
     "text": [
      "reading /gws/nopw/j04/dcmex/users/ezriab/image_labelling/2ds_10000_sample/2ds_10000_8_dif.csv\n",
      "saving to /gws/nopw/j04/dcmex/users/ezriab/image_labelling/2ds_10000_sample/2ds_10000_8_dif.csv\n",
      "number of images already labelled: 8619\n"
     ]
    },
    {
     "data": {
      "text/html": [
       "<div>\n",
       "<style scoped>\n",
       "    .dataframe tbody tr th:only-of-type {\n",
       "        vertical-align: middle;\n",
       "    }\n",
       "\n",
       "    .dataframe tbody tr th {\n",
       "        vertical-align: top;\n",
       "    }\n",
       "\n",
       "    .dataframe thead th {\n",
       "        text-align: right;\n",
       "    }\n",
       "</style>\n",
       "<table border=\"1\" class=\"dataframe\">\n",
       "  <thead>\n",
       "    <tr style=\"text-align: right;\">\n",
       "      <th></th>\n",
       "      <th>image_name</th>\n",
       "      <th>number_label</th>\n",
       "      <th>2nd_label</th>\n",
       "    </tr>\n",
       "  </thead>\n",
       "  <tbody>\n",
       "    <tr>\n",
       "      <th>0</th>\n",
       "      <td>1697685_23ch1</td>\n",
       "      <td>1.0</td>\n",
       "      <td>1.0</td>\n",
       "    </tr>\n",
       "    <tr>\n",
       "      <th>1</th>\n",
       "      <td>669294_20ch0</td>\n",
       "      <td>1.0</td>\n",
       "      <td>1.0</td>\n",
       "    </tr>\n",
       "    <tr>\n",
       "      <th>2</th>\n",
       "      <td>601343_19ch0</td>\n",
       "      <td>1.0</td>\n",
       "      <td>1.0</td>\n",
       "    </tr>\n",
       "    <tr>\n",
       "      <th>3</th>\n",
       "      <td>18058_26ch1</td>\n",
       "      <td>1.0</td>\n",
       "      <td>1.0</td>\n",
       "    </tr>\n",
       "    <tr>\n",
       "      <th>4</th>\n",
       "      <td>1261837_25ch0</td>\n",
       "      <td>3.0</td>\n",
       "      <td>NaN</td>\n",
       "    </tr>\n",
       "  </tbody>\n",
       "</table>\n",
       "</div>"
      ],
      "text/plain": [
       "      image_name  number_label  2nd_label\n",
       "0  1697685_23ch1           1.0        1.0\n",
       "1   669294_20ch0           1.0        1.0\n",
       "2   601343_19ch0           1.0        1.0\n",
       "3    18058_26ch1           1.0        1.0\n",
       "4  1261837_25ch0           3.0        NaN"
      ]
     },
     "execution_count": 4,
     "metadata": {},
     "output_type": "execute_result"
    }
   ],
   "source": [
    "## directory of set of images i would like to label + corresponding csv to populate\n",
    "folder_path = '/gws/nopw/j04/dcmex/users/ezriab/image_labelling/2ds_10000_sample/'\n",
    "# open csv quickly to check it is correct + in the format we expect\n",
    "csv_file_name = '2ds_10000_8_dif.csv'\n",
    "saving_csv_name = '2ds_10000_8_dif.csv'\n",
    "csv_full_path = os.path.join(folder_path,csv_file_name)\n",
    "full_save_csv_path = os.path.join(folder_path,saving_csv_name)\n",
    "csv_read_pd = pd.read_csv(csv_full_path)\n",
    "print(f'reading {csv_full_path}')\n",
    "print(f'saving to {full_save_csv_path}')\n",
    "n_images_done = csv_read_pd['2nd_label'].count()\n",
    "print(f'number of images already labelled: {n_images_done}')\n",
    "csv_read_pd.head()"
   ]
  },
  {
   "cell_type": "code",
   "execution_count": 3,
   "id": "894c6ee4-e75c-4e88-a6db-5bb0419c0e23",
   "metadata": {
    "collapsed": true,
    "jupyter": {
     "outputs_hidden": true,
     "source_hidden": true
    }
   },
   "outputs": [
    {
     "data": {
      "text/plain": [
       "\"\\ncount_cp = csv_read_pd['number_label'].value_counts().get(11.0, 0)\\nprint(count_cp)\\n\""
      ]
     },
     "execution_count": 3,
     "metadata": {},
     "output_type": "execute_result"
    }
   ],
   "source": [
    "## updating the already labelled csv - make new column + saving in og place\n",
    "#csv_read_pd['2nd_label'] = np.nan\n",
    "#csv_read_pd\n",
    "#full_save_csv_path = os.path.join(folder_path,saving_csv_name)\n",
    "#csv_read_pd.to_csv(full_save_csv_path, index=False)\n",
    "\n",
    "## how many of each category\n",
    "'''\n",
    "count_cp = csv_read_pd['number_label'].value_counts().get(11.0, 0)\n",
    "print(count_cp)\n",
    "'''"
   ]
  },
  {
   "cell_type": "markdown",
   "id": "291f452a-79a3-4f38-a654-7b328f6e9cb2",
   "metadata": {
    "jp-MarkdownHeadingCollapsed": true
   },
   "source": [
    "# label things"
   ]
  },
  {
   "cell_type": "code",
   "execution_count": 13,
   "id": "25f1b69a-3aad-411d-b2cc-69b5a6176d3c",
   "metadata": {},
   "outputs": [],
   "source": [
    "number_of_interest = 11 # between 1 to 9, or 11"
   ]
  },
  {
   "cell_type": "code",
   "execution_count": 14,
   "id": "65b53dc7-5ffb-4d25-a958-18c646110465",
   "metadata": {},
   "outputs": [
    {
     "name": "stdout",
     "output_type": "stream",
     "text": [
      "2ds_10000_8_dif.csv saved!\n"
     ]
    }
   ],
   "source": [
    "# okay we are going to need a completly different approach for this\n",
    "def v2_saving_function(df,save_path):\n",
    "    df.to_csv(save_path, index=False)\n",
    "    print(f'{saving_csv_name} saved!')\n",
    "    return df\n",
    "\n",
    "# make a list of index where these images are located\n",
    "interesting_idx = csv_read_pd.index[csv_read_pd['number_label'] == number_of_interest].tolist()\n",
    "\n",
    "for i in range(len(interesting_idx)):\n",
    "#for i in range(10):\n",
    "    idx = interesting_idx[i]\n",
    "    row = csv_read_pd.loc[idx]\n",
    "    image_name = row.iloc[0]\n",
    "    og_label = row.iloc[1]\n",
    "    new_label = row.iloc[2]\n",
    "\n",
    "    # I've already labelled it a second time\n",
    "    if not pd.isna(new_label):\n",
    "        continue\n",
    "\n",
    "    ## lets do the whole image labelling thing\n",
    "    else:\n",
    "        print(image_name)\n",
    "        im = Image.open(os.path.join(folder_path, image_name + '.png'))\n",
    "        plt.figure(figsize=(8, 8))\n",
    "        plt.imshow(im)\n",
    "        plt.axis('off')\n",
    "        plt.show()\n",
    "        while True: # loop will continue until a valid entry is passed\n",
    "            inp = input(\"Enter a label (0-9 or 11, or 'stop' to quit): \") ## label of image\n",
    "\n",
    "            ## if write 'stop' will stop labelling + save what has been done\n",
    "            if inp.lower() == 'stop':\n",
    "                print(\"Stopped labeling.\")\n",
    "                updated_df = v2_saving_function(csv_read_pd,full_save_csv_path)\n",
    "                raise SystemExit  # Exit gracefully\n",
    "            \n",
    "            try:\n",
    "                num = int(inp) # convert to number (corresponding to label)\n",
    "                if 0 <= num <= 11:  # Check if the number is in the valid range\n",
    "                    clear_output(wait=True) # get rid of image once you've labelled it\n",
    "                    csv_read_pd.loc[idx, '2nd_label'] = num ## as working in a df, we over-write the correct cell\n",
    "                    break  # Exit the loop if the input is valid\n",
    "                else:\n",
    "                    print(\"Error: Label must be between 0 and 11.\")\n",
    "            except ValueError: # if we don't input a number -> stop labelling, so will break\n",
    "                print(\"not words, what are you doing???\")\n",
    "        \n",
    "updated_df = v2_saving_function(csv_read_pd,full_save_csv_path)"
   ]
  },
  {
   "cell_type": "markdown",
   "id": "7771238d-9be6-4649-aad8-f6cdfe12f8c6",
   "metadata": {},
   "source": [
    "## hide extra stuff"
   ]
  },
  {
   "cell_type": "code",
   "execution_count": 7,
   "id": "8f2fec95-e0d9-4d78-a8bf-cfcfabb8e797",
   "metadata": {},
   "outputs": [
    {
     "name": "stdout",
     "output_type": "stream",
     "text": [
      "2ds_10000_6.csv saved!\n"
     ]
    }
   ],
   "source": [
    "csv_read_pd['2nd_label'].value_counts().get(1.0, 0)\n",
    "#csv_read_pd['2nd_label'].count()\n",
    "#df.to_csv(csv_file_list[0], index=False) "
   ]
  },
  {
   "cell_type": "code",
   "execution_count": 15,
   "id": "33386025-0b12-44f7-833a-762d359ad903",
   "metadata": {},
   "outputs": [
    {
     "data": {
      "text/plain": [
       "'/home/users/esree/CNN_basics/save_progress/2ds_10000_8_dif.csv'"
      ]
     },
     "execution_count": 15,
     "metadata": {},
     "output_type": "execute_result"
    }
   ],
   "source": [
    "## copy newly labelled csv to github too\n",
    "git_path = '/home/users/esree/CNN_basics/save_progress/'\n",
    "shutil.copy(full_save_csv_path, git_path)"
   ]
  },
  {
   "cell_type": "markdown",
   "id": "d31b6ad6-36f5-4289-8e06-ec8874e249f6",
   "metadata": {
    "jp-MarkdownHeadingCollapsed": true
   },
   "source": [
    "# csv overwrite current label"
   ]
  },
  {
   "cell_type": "code",
   "execution_count": 5,
   "id": "323568b1-7e3a-4cc8-9c75-fb6612991111",
   "metadata": {},
   "outputs": [],
   "source": [
    "og_csv = '2ds_10000.csv' ## original file\n",
    "new_csv = '2ds_10000_8_dif.csv' ## new labels - in second column, but not all are second labelled\n",
    "og_df = pd.read_csv(folder_path+og_csv)\n",
    "new_df = pd.read_csv(folder_path+new_csv)"
   ]
  },
  {
   "cell_type": "code",
   "execution_count": 15,
   "id": "307666b8-3ad8-4d59-bb0d-b40580e448f5",
   "metadata": {
    "scrolled": true
   },
   "outputs": [
    {
     "data": {
      "text/html": [
       "<div>\n",
       "<style scoped>\n",
       "    .dataframe tbody tr th:only-of-type {\n",
       "        vertical-align: middle;\n",
       "    }\n",
       "\n",
       "    .dataframe tbody tr th {\n",
       "        vertical-align: top;\n",
       "    }\n",
       "\n",
       "    .dataframe thead th {\n",
       "        text-align: right;\n",
       "    }\n",
       "</style>\n",
       "<table border=\"1\" class=\"dataframe\">\n",
       "  <thead>\n",
       "    <tr style=\"text-align: right;\">\n",
       "      <th></th>\n",
       "      <th>image_name</th>\n",
       "      <th>number_label</th>\n",
       "    </tr>\n",
       "  </thead>\n",
       "  <tbody>\n",
       "    <tr>\n",
       "      <th>0</th>\n",
       "      <td>1697685_23ch1</td>\n",
       "      <td>1.0</td>\n",
       "    </tr>\n",
       "    <tr>\n",
       "      <th>1</th>\n",
       "      <td>669294_20ch0</td>\n",
       "      <td>1.0</td>\n",
       "    </tr>\n",
       "    <tr>\n",
       "      <th>2</th>\n",
       "      <td>601343_19ch0</td>\n",
       "      <td>1.0</td>\n",
       "    </tr>\n",
       "    <tr>\n",
       "      <th>3</th>\n",
       "      <td>18058_26ch1</td>\n",
       "      <td>1.0</td>\n",
       "    </tr>\n",
       "    <tr>\n",
       "      <th>4</th>\n",
       "      <td>1261837_25ch0</td>\n",
       "      <td>3.0</td>\n",
       "    </tr>\n",
       "    <tr>\n",
       "      <th>...</th>\n",
       "      <td>...</td>\n",
       "      <td>...</td>\n",
       "    </tr>\n",
       "    <tr>\n",
       "      <th>9995</th>\n",
       "      <td>387342_02ch1</td>\n",
       "      <td>1.0</td>\n",
       "    </tr>\n",
       "    <tr>\n",
       "      <th>9996</th>\n",
       "      <td>676765_19ch0</td>\n",
       "      <td>1.0</td>\n",
       "    </tr>\n",
       "    <tr>\n",
       "      <th>9997</th>\n",
       "      <td>159619_06ch1</td>\n",
       "      <td>1.0</td>\n",
       "    </tr>\n",
       "    <tr>\n",
       "      <th>9998</th>\n",
       "      <td>2003638_23ch0</td>\n",
       "      <td>1.0</td>\n",
       "    </tr>\n",
       "    <tr>\n",
       "      <th>9999</th>\n",
       "      <td>1569153_20ch1</td>\n",
       "      <td>1.0</td>\n",
       "    </tr>\n",
       "  </tbody>\n",
       "</table>\n",
       "<p>10000 rows × 2 columns</p>\n",
       "</div>"
      ],
      "text/plain": [
       "         image_name  number_label\n",
       "0     1697685_23ch1           1.0\n",
       "1      669294_20ch0           1.0\n",
       "2      601343_19ch0           1.0\n",
       "3       18058_26ch1           1.0\n",
       "4     1261837_25ch0           3.0\n",
       "...             ...           ...\n",
       "9995   387342_02ch1           1.0\n",
       "9996   676765_19ch0           1.0\n",
       "9997   159619_06ch1           1.0\n",
       "9998  2003638_23ch0           1.0\n",
       "9999  1569153_20ch1           1.0\n",
       "\n",
       "[10000 rows x 2 columns]"
      ]
     },
     "execution_count": 15,
     "metadata": {},
     "output_type": "execute_result"
    }
   ],
   "source": [
    "## combining og labels + new labels - replace old labels\n",
    "length_of_data = len(og_df['image_name'])\n",
    "name_lst = []\n",
    "label_lst = []\n",
    "\n",
    "for idx in range(int(length_of_data)):\n",
    "    row = csv_read_pd.loc[idx]\n",
    "    image_name = row.iloc[0]\n",
    "    og_label = row.iloc[1]\n",
    "    new_label = row.iloc[2]\n",
    "    \n",
    "    name_lst.append(image_name)\n",
    "    if not pd.isna(new_label):\n",
    "        label_lst.append(new_label)\n",
    "    else:\n",
    "        label_lst.append(og_label)\n",
    "\n",
    "df_dic = {'image_name':name_lst,'number_label':label_lst}\n",
    "new_df = pd.DataFrame(df_dic)\n",
    "new_df"
   ]
  },
  {
   "cell_type": "code",
   "execution_count": 18,
   "id": "e4ce7ddb-2e8b-4f3a-b3ce-b2fee668841a",
   "metadata": {},
   "outputs": [
    {
     "name": "stdout",
     "output_type": "stream",
     "text": [
      "2ds_10000_new.csv saved!\n"
     ]
    }
   ],
   "source": [
    "new_df['number_label'].count()\n",
    "saving_csv_name = '2ds_10000_new.csv'\n",
    "#saved_df = v2_saving_function(new_df,folder_path+saving_csv_name)"
   ]
  },
  {
   "cell_type": "markdown",
   "id": "1c974dd6-cb1d-46a9-b599-24648e5d618f",
   "metadata": {
    "jp-MarkdownHeadingCollapsed": true
   },
   "source": [
    "# group images together to download them"
   ]
  },
  {
   "cell_type": "code",
   "execution_count": 44,
   "id": "fee4944b-4292-4d10-9080-cf6ad1808647",
   "metadata": {},
   "outputs": [
    {
     "name": "stdout",
     "output_type": "stream",
     "text": [
      "CP\n",
      "/gws/nopw/j04/dcmex/users/ezriab/image_labelling/2ds_10000_sample/CP\n",
      "FA\n",
      "/gws/nopw/j04/dcmex/users/ezriab/image_labelling/2ds_10000_sample/FA\n",
      "Co\n",
      "/gws/nopw/j04/dcmex/users/ezriab/image_labelling/2ds_10000_sample/Co\n",
      "HPC\n",
      "/gws/nopw/j04/dcmex/users/ezriab/image_labelling/2ds_10000_sample/HPC\n",
      "CBC\n",
      "/gws/nopw/j04/dcmex/users/ezriab/image_labelling/2ds_10000_sample/CBC\n",
      "CA\n",
      "/gws/nopw/j04/dcmex/users/ezriab/image_labelling/2ds_10000_sample/CA\n",
      "CC\n",
      "/gws/nopw/j04/dcmex/users/ezriab/image_labelling/2ds_10000_sample/CC\n",
      "WD\n",
      "/gws/nopw/j04/dcmex/users/ezriab/image_labelling/2ds_10000_sample/WD\n",
      "DIF\n",
      "/gws/nopw/j04/dcmex/users/ezriab/image_labelling/2ds_10000_sample/DIF\n",
      "unknown\n",
      "/gws/nopw/j04/dcmex/users/ezriab/image_labelling/2ds_10000_sample/unknown\n"
     ]
    }
   ],
   "source": [
    "folder_path = '/gws/nopw/j04/dcmex/users/ezriab/image_labelling/2ds_10000_sample/'\n",
    "csv_file_name = '2ds_10000_new.csv'\n",
    "csv_read_pd = pd.read_csv(folder_path+csv_file_name)\n",
    "\n",
    "category_dic = {'1.0':'CP','2.0':'FA','3.0':'Co','4.0':'HPC','6.0':'CBC','7.0':'CA','8.0':'CC','9.0':'WD','0.0':'DIF','11.0':'unknown'}\n",
    "category_dic_extra = {} # adding in path to loc \n",
    "for key in category_dic:\n",
    "    var_name = category_dic[key]\n",
    "    individ_cat_path = folder_path+var_name+'/'\n",
    "    category_dic_extra[key] = [var_name,individ_cat_path]\n",
    "\n",
    "'''\n",
    "## make bunch of directories with appropriate names\n",
    "category_names_lst = [category_dic[key] for key in category_dic] ## ayy make a list of category names from our dictionary values # newlist = [expression for item in iterable if condition == True]\n",
    "\n",
    "# make each name a folder\n",
    "for cat_name in category_names_lst:\n",
    "    path = folder_path+cat_name+'/'\n",
    "    if not os.path.exists(path):\n",
    "        os.makedirs(path)\n",
    "        print(f\"{cat_name} created successfully!\")\n",
    "    else:\n",
    "        print(f\"{cat_name} already exists.\")\n",
    "'''\n",
    "\n",
    "\n",
    "length_of_data = len(csv_read_pd['image_name'])\n",
    "for idx in range(int(length_of_data/1000)):\n",
    "    row = csv_read_pd.loc[idx]\n",
    "    image_name = row.iloc[0]\n",
    "    label = row.iloc[1]\n",
    "    og_loc = folder_path+image_name+'.png'\n",
    "    new_loc = category_dic_extra[str(label)][1]\n",
    "    \n",
    "    shutil.copy(og_loc, new_loc)\n",
    "\n",
    "print('copying images finished')\n",
    "\n",
    "# zip up the folders with images in\n",
    "for key in category_dic_extra:\n",
    "    cat_folder = category_dic_extra[key][0]\n",
    "    folder_path_to_zip = category_dic_extra[key][1][:-1]\n",
    "    shutil.make_archive(folder_path_to_zip, 'zip',folder_path_to_zip) # as we are saving with same name but with .zip\n",
    "    print(f'{cat_folder} zipped!')"
   ]
  },
  {
   "cell_type": "code",
   "execution_count": 29,
   "id": "a501754d-e2e5-416a-92ae-07e098d1eedc",
   "metadata": {},
   "outputs": [
    {
     "data": {
      "text/plain": [
       "['CP', 'FA', 'Co', 'HPC', 'CBC', 'CA', 'CC', 'WD', 'DIF', 'unknown']"
      ]
     },
     "execution_count": 29,
     "metadata": {},
     "output_type": "execute_result"
    }
   ],
   "source": [
    "category_names"
   ]
  },
  {
   "cell_type": "code",
   "execution_count": 40,
   "id": "3f5970c5-5a37-4fb2-a974-8b8dd9ecbea0",
   "metadata": {},
   "outputs": [
    {
     "data": {
      "text/html": [
       "<div>\n",
       "<style scoped>\n",
       "    .dataframe tbody tr th:only-of-type {\n",
       "        vertical-align: middle;\n",
       "    }\n",
       "\n",
       "    .dataframe tbody tr th {\n",
       "        vertical-align: top;\n",
       "    }\n",
       "\n",
       "    .dataframe thead th {\n",
       "        text-align: right;\n",
       "    }\n",
       "</style>\n",
       "<table border=\"1\" class=\"dataframe\">\n",
       "  <thead>\n",
       "    <tr style=\"text-align: right;\">\n",
       "      <th></th>\n",
       "      <th>image_name</th>\n",
       "      <th>number_label</th>\n",
       "    </tr>\n",
       "  </thead>\n",
       "  <tbody>\n",
       "    <tr>\n",
       "      <th>0</th>\n",
       "      <td>1697685_23ch1</td>\n",
       "      <td>1.0</td>\n",
       "    </tr>\n",
       "    <tr>\n",
       "      <th>1</th>\n",
       "      <td>669294_20ch0</td>\n",
       "      <td>1.0</td>\n",
       "    </tr>\n",
       "    <tr>\n",
       "      <th>2</th>\n",
       "      <td>601343_19ch0</td>\n",
       "      <td>1.0</td>\n",
       "    </tr>\n",
       "    <tr>\n",
       "      <th>3</th>\n",
       "      <td>18058_26ch1</td>\n",
       "      <td>1.0</td>\n",
       "    </tr>\n",
       "    <tr>\n",
       "      <th>4</th>\n",
       "      <td>1261837_25ch0</td>\n",
       "      <td>3.0</td>\n",
       "    </tr>\n",
       "    <tr>\n",
       "      <th>5</th>\n",
       "      <td>484599_25ch0</td>\n",
       "      <td>2.0</td>\n",
       "    </tr>\n",
       "    <tr>\n",
       "      <th>6</th>\n",
       "      <td>1435287_23ch0</td>\n",
       "      <td>1.0</td>\n",
       "    </tr>\n",
       "    <tr>\n",
       "      <th>7</th>\n",
       "      <td>1710083_20ch0</td>\n",
       "      <td>1.0</td>\n",
       "    </tr>\n",
       "    <tr>\n",
       "      <th>8</th>\n",
       "      <td>2586247_25ch1</td>\n",
       "      <td>1.0</td>\n",
       "    </tr>\n",
       "    <tr>\n",
       "      <th>9</th>\n",
       "      <td>299315_20ch0</td>\n",
       "      <td>1.0</td>\n",
       "    </tr>\n",
       "  </tbody>\n",
       "</table>\n",
       "</div>"
      ],
      "text/plain": [
       "      image_name  number_label\n",
       "0  1697685_23ch1           1.0\n",
       "1   669294_20ch0           1.0\n",
       "2   601343_19ch0           1.0\n",
       "3    18058_26ch1           1.0\n",
       "4  1261837_25ch0           3.0\n",
       "5   484599_25ch0           2.0\n",
       "6  1435287_23ch0           1.0\n",
       "7  1710083_20ch0           1.0\n",
       "8  2586247_25ch1           1.0\n",
       "9   299315_20ch0           1.0"
      ]
     },
     "execution_count": 40,
     "metadata": {},
     "output_type": "execute_result"
    }
   ],
   "source": [
    "csv_read_pd[:10]"
   ]
  },
  {
   "cell_type": "markdown",
   "id": "623aff86-4815-4948-8c56-a54a65f82e12",
   "metadata": {},
   "source": [
    "# extract relevant particle stats of ones labelled"
   ]
  },
  {
   "cell_type": "code",
   "execution_count": 48,
   "id": "61e8d56c-0da8-4d0e-8a07-3fdf8e6e87e3",
   "metadata": {
    "scrolled": true
   },
   "outputs": [],
   "source": [
    "path_2ds_stats = '/gws/nopw/j04/dcmex/users/ezriab/processed_stats/2ds/all_2ds.csv'\n",
    "path_labelled = '/gws/nopw/j04/dcmex/users/ezriab/image_labelling/2ds_10000_sample/2ds_10000_new.csv'\n",
    "\n",
    "full_ds_stats = pd.read_csv(path_2ds_stats)\n",
    "image_labelled_df = pd.read_csv(path_labelled)\n",
    "\n",
    "images_labelled_lst = list(image_labelled_df['image_name'])\n",
    "\n",
    "labelled_image_stats = full_ds_stats[full_ds_stats['name'].isin(images_labelled_lst)]\n",
    "\n",
    "\n",
    "## need to add new column - with the label on\n",
    "# not sure why 2 extra rows on df more than have been labelled??"
   ]
  },
  {
   "cell_type": "code",
   "execution_count": 55,
   "id": "7f0f028d-6d8c-4cd6-a9ea-7b5d74617561",
   "metadata": {},
   "outputs": [
    {
     "data": {
      "text/plain": [
       "10002"
      ]
     },
     "execution_count": 55,
     "metadata": {},
     "output_type": "execute_result"
    }
   ],
   "source": [
    "labelled_image_stats['name'].count()"
   ]
  },
  {
   "cell_type": "code",
   "execution_count": 54,
   "id": "dbdfca64-10d5-4a58-b49b-c554987253cd",
   "metadata": {},
   "outputs": [
    {
     "data": {
      "text/plain": [
       "10000"
      ]
     },
     "execution_count": 54,
     "metadata": {},
     "output_type": "execute_result"
    }
   ],
   "source": [
    "len(images_labelled_lst)"
   ]
  },
  {
   "cell_type": "code",
   "execution_count": null,
   "id": "0e895aef-6cf4-4d6c-a9da-14cc76d2663b",
   "metadata": {},
   "outputs": [],
   "source": []
  }
 ],
 "metadata": {
  "kernelspec": {
   "display_name": "Python 3 + Jaspy",
   "language": "python",
   "name": "jaspy"
  },
  "language_info": {
   "codemirror_mode": {
    "name": "ipython",
    "version": 3
   },
   "file_extension": ".py",
   "mimetype": "text/x-python",
   "name": "python",
   "nbconvert_exporter": "python",
   "pygments_lexer": "ipython3",
   "version": "3.11.9"
  }
 },
 "nbformat": 4,
 "nbformat_minor": 5
}
