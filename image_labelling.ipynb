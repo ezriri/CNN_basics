{
 "cells": [
  {
   "cell_type": "markdown",
   "id": "1e91ebdc-867e-4eff-8041-ed33a7eeca9c",
   "metadata": {},
   "source": [
    "# image labelling code\n",
    "developing code for automatic / quick image labelling\n",
    "\n",
    "\n",
    "i have discovered using the terminal is a nightmare to do labelling, so i will copy someone else who has already made a program to label in jupyter notebook."
   ]
  },
  {
   "cell_type": "code",
   "execution_count": 9,
   "id": "d5cca462-16c9-4293-a7b5-380e8b25b6cb",
   "metadata": {},
   "outputs": [],
   "source": [
    "import numpy as np\n",
    "import pandas as pd\n",
    "import os\n",
    "from PIL import Image\n",
    "from glob import glob\n",
    "import csv\n",
    "import matplotlib.pyplot as plt\n",
    "from IPython.display import clear_output"
   ]
  },
  {
   "cell_type": "markdown",
   "id": "4ee1b92b-a1e0-410b-9af5-a052378aad6a",
   "metadata": {},
   "source": [
    "first of all "
   ]
  },
  {
   "cell_type": "code",
   "execution_count": 22,
   "id": "2f61af8f-1e67-4803-b7a7-d67a09d090f8",
   "metadata": {},
   "outputs": [
    {
     "data": {
      "text/html": [
       "<div>\n",
       "<style scoped>\n",
       "    .dataframe tbody tr th:only-of-type {\n",
       "        vertical-align: middle;\n",
       "    }\n",
       "\n",
       "    .dataframe tbody tr th {\n",
       "        vertical-align: top;\n",
       "    }\n",
       "\n",
       "    .dataframe thead th {\n",
       "        text-align: right;\n",
       "    }\n",
       "</style>\n",
       "<table border=\"1\" class=\"dataframe\">\n",
       "  <thead>\n",
       "    <tr style=\"text-align: right;\">\n",
       "      <th></th>\n",
       "      <th>image_name</th>\n",
       "      <th>number_label</th>\n",
       "    </tr>\n",
       "  </thead>\n",
       "  <tbody>\n",
       "    <tr>\n",
       "      <th>0</th>\n",
       "      <td>1749002_23ch1</td>\n",
       "      <td>5.0</td>\n",
       "    </tr>\n",
       "    <tr>\n",
       "      <th>1</th>\n",
       "      <td>686358_20ch0</td>\n",
       "      <td>7.0</td>\n",
       "    </tr>\n",
       "    <tr>\n",
       "      <th>2</th>\n",
       "      <td>603096_19ch0</td>\n",
       "      <td>8.0</td>\n",
       "    </tr>\n",
       "    <tr>\n",
       "      <th>3</th>\n",
       "      <td>57384_26ch1</td>\n",
       "      <td>3.0</td>\n",
       "    </tr>\n",
       "    <tr>\n",
       "      <th>4</th>\n",
       "      <td>507664_25ch0</td>\n",
       "      <td>52.0</td>\n",
       "    </tr>\n",
       "    <tr>\n",
       "      <th>5</th>\n",
       "      <td>305596_20ch0</td>\n",
       "      <td>25.0</td>\n",
       "    </tr>\n",
       "    <tr>\n",
       "      <th>6</th>\n",
       "      <td>1275727_25ch0</td>\n",
       "      <td>6.0</td>\n",
       "    </tr>\n",
       "    <tr>\n",
       "      <th>7</th>\n",
       "      <td>1450139_23ch0</td>\n",
       "      <td>NaN</td>\n",
       "    </tr>\n",
       "    <tr>\n",
       "      <th>8</th>\n",
       "      <td>1718292_20ch0</td>\n",
       "      <td>NaN</td>\n",
       "    </tr>\n",
       "    <tr>\n",
       "      <th>9</th>\n",
       "      <td>2625944_25ch1</td>\n",
       "      <td>NaN</td>\n",
       "    </tr>\n",
       "  </tbody>\n",
       "</table>\n",
       "</div>"
      ],
      "text/plain": [
       "      image_name  number_label\n",
       "0  1749002_23ch1           5.0\n",
       "1   686358_20ch0           7.0\n",
       "2   603096_19ch0           8.0\n",
       "3    57384_26ch1           3.0\n",
       "4   507664_25ch0          52.0\n",
       "5   305596_20ch0          25.0\n",
       "6  1275727_25ch0           6.0\n",
       "7  1450139_23ch0           NaN\n",
       "8  1718292_20ch0           NaN\n",
       "9  2625944_25ch1           NaN"
      ]
     },
     "execution_count": 22,
     "metadata": {},
     "output_type": "execute_result"
    }
   ],
   "source": [
    "## directory of set of images i would like to label + corresponding csv to populate\n",
    "folder_path = '/gws/nopw/j04/dcmex/users/ezriab/image_labelling/test_random_sample/'\n",
    "\n",
    "# open csv quickly to check it is correct + in the format we expect\n",
    "csv_file_list = glob(folder_path+'*.csv')\n",
    "csv_read_pd = pd.read_csv(csv_file_list[0])\n",
    "all_image_names = list(csv_read_pd['image_name'])\n",
    "csv_read_pd"
   ]
  },
  {
   "cell_type": "code",
   "execution_count": 23,
   "id": "5c851a1c-731a-4273-9d8c-ceacbbc7c823",
   "metadata": {},
   "outputs": [
    {
     "name": "stdout",
     "output_type": "stream",
     "text": [
      "ok\n",
      "ok\n",
      "ok\n",
      "ok\n",
      "ok\n",
      "ok\n",
      "ok\n",
      "ok\n",
      "ok\n",
      "ok\n"
     ]
    }
   ],
   "source": [
    "# Read in csv, find where images are not labelled, append rows, then save the updated csv\n",
    "image_name_lst = []\n",
    "new_image_label_lst = []\n",
    "with open(csv_file_list[0], mode='r') as file:\n",
    "    csv_reader = csv.reader(file)\n",
    "    header = next(csv_reader)  # Read the header row\n",
    "    #rows.append(header)  # Keep the header row -\n",
    "    # loop through each row\n",
    "    for row in csv_reader:\n",
    "        image_name = row[0]\n",
    "        label = row[1]\n",
    "        print('ok')\n",
    "        \n",
    "        # find row which image doesn't have a label i.e. is it a integer?\n",
    "        #if not isinstance(label, float): \n",
    "        if not label:\n",
    "            # display the image\n",
    "            #im = Image.open(folder_path + image_name + '.png')\n",
    "            print(image_name)\n",
    "            im = Image.open(os.path.join(folder_path, image_name + '.png'))\n",
    "            plt.imshow(im)\n",
    "            plt.axis('off')\n",
    "            plt.show()\n",
    "            #print('fuck')\n",
    "            inp = input() ## label of image\n",
    "            try:\n",
    "                num = int(inp) # convert to number (corresponding to label)\n",
    "                image_name_lst.append(image_name)\n",
    "                new_image_label_lst.append(num)\n",
    "                clear_output(wait=True) # get rid of image once you've labelled it\n",
    "            except ValueError: # if we don't input a number -> stop labelling, so will break\n",
    "                print(\"stopped labelling\")\n",
    "                break\n",
    "        \n",
    "        # if we've already labelled some, will just add them to the list already\n",
    "        else:\n",
    "            image_name_lst.append(image_name)\n",
    "            new_image_label_lst.append(label)\n",
    "\n",
    "## so we have 2 lists of names, and may not be same length as original file, so will have to add back the unlabelled ones\n",
    "if len(image_name_lst) < len(csv_read_pd['image_name']):\n",
    "    not_labelled = list(set(all_image_names) - set(image_name_lst))\n",
    "    image_name_lst.extend(not_labelled)  # Modifies the list in place\n",
    "\n",
    "    # need to append same number of NaNs to image names, so can construct df correctly\n",
    "    spare_nans = len(not_labelled)\n",
    "    new_image_label_lst = np.append(new_image_label_lst, np.repeat(np.nan, spare_nans))\n",
    "\n",
    "\n",
    "new_csv_dic = {'image_name': image_name_lst, 'number_label':new_image_label_lst}\n",
    "#new_csv_dic = {'image_name': image_name_lst, 'number_label':pd.Series(new_image_label_lst, dtype='Int64')}\n",
    "\n",
    "df = pd.DataFrame(new_csv_dic)\n",
    "# finally overwrite the current file (will need to be careful of this)\n",
    "#df.to_csv(csv_file_list[0], index=False) "
   ]
  },
  {
   "cell_type": "code",
   "execution_count": 21,
   "id": "8f2fec95-e0d9-4d78-a8bf-cfcfabb8e797",
   "metadata": {},
   "outputs": [],
   "source": [
    "df\n",
    "df.to_csv(csv_file_list[0], index=False) "
   ]
  },
  {
   "cell_type": "code",
   "execution_count": null,
   "id": "db6e6fab-efae-442f-ade1-3548f7044ecb",
   "metadata": {},
   "outputs": [],
   "source": []
  }
 ],
 "metadata": {
  "kernelspec": {
   "display_name": "Python 3 + Jaspy",
   "language": "python",
   "name": "jaspy"
  },
  "language_info": {
   "codemirror_mode": {
    "name": "ipython",
    "version": 3
   },
   "file_extension": ".py",
   "mimetype": "text/x-python",
   "name": "python",
   "nbconvert_exporter": "python",
   "pygments_lexer": "ipython3",
   "version": "3.11.9"
  }
 },
 "nbformat": 4,
 "nbformat_minor": 5
}
