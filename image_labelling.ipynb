{
 "cells": [
  {
   "cell_type": "markdown",
   "id": "1e91ebdc-867e-4eff-8041-ed33a7eeca9c",
   "metadata": {},
   "source": [
    "# image labelling code\n",
    "developing code for automatic / quick image labelling\n",
    "\n",
    "\n",
    "i have discovered using the terminal is a nightmare to do labelling, so i will copy someone else who has already made a program to label in jupyter notebook."
   ]
  },
  {
   "cell_type": "code",
   "execution_count": 21,
   "id": "d5cca462-16c9-4293-a7b5-380e8b25b6cb",
   "metadata": {},
   "outputs": [],
   "source": [
    "import numpy as np\n",
    "import pandas as pd\n",
    "import os\n",
    "from PIL import Image\n",
    "from glob import glob\n",
    "import csv\n",
    "import matplotlib.pyplot as plt\n",
    "from IPython.display import clear_output\n",
    "import math\n",
    "import shutil"
   ]
  },
  {
   "cell_type": "code",
   "execution_count": 16,
   "id": "2f61af8f-1e67-4803-b7a7-d67a09d090f8",
   "metadata": {},
   "outputs": [
    {
     "name": "stdout",
     "output_type": "stream",
     "text": [
      "reading /gws/nopw/j04/dcmex/users/ezriab/image_labelling/2ds_2000_010125/2ds_2000_010125.csv\n",
      "saving to /gws/nopw/j04/dcmex/users/ezriab/image_labelling/2ds_2000_010125/2ds_2000_010125_1st.csv\n"
     ]
    },
    {
     "data": {
      "text/html": [
       "<div>\n",
       "<style scoped>\n",
       "    .dataframe tbody tr th:only-of-type {\n",
       "        vertical-align: middle;\n",
       "    }\n",
       "\n",
       "    .dataframe tbody tr th {\n",
       "        vertical-align: top;\n",
       "    }\n",
       "\n",
       "    .dataframe thead th {\n",
       "        text-align: right;\n",
       "    }\n",
       "</style>\n",
       "<table border=\"1\" class=\"dataframe\">\n",
       "  <thead>\n",
       "    <tr style=\"text-align: right;\">\n",
       "      <th></th>\n",
       "      <th>image_name</th>\n",
       "      <th>number_label</th>\n",
       "    </tr>\n",
       "  </thead>\n",
       "  <tbody>\n",
       "    <tr>\n",
       "      <th>0</th>\n",
       "      <td>1697685_23ch1</td>\n",
       "      <td>NaN</td>\n",
       "    </tr>\n",
       "    <tr>\n",
       "      <th>1</th>\n",
       "      <td>669294_20ch0</td>\n",
       "      <td>NaN</td>\n",
       "    </tr>\n",
       "    <tr>\n",
       "      <th>2</th>\n",
       "      <td>601343_19ch0</td>\n",
       "      <td>NaN</td>\n",
       "    </tr>\n",
       "    <tr>\n",
       "      <th>3</th>\n",
       "      <td>18058_26ch1</td>\n",
       "      <td>NaN</td>\n",
       "    </tr>\n",
       "    <tr>\n",
       "      <th>4</th>\n",
       "      <td>1261837_25ch0</td>\n",
       "      <td>NaN</td>\n",
       "    </tr>\n",
       "    <tr>\n",
       "      <th>...</th>\n",
       "      <td>...</td>\n",
       "      <td>...</td>\n",
       "    </tr>\n",
       "    <tr>\n",
       "      <th>1995</th>\n",
       "      <td>306859_20ch0</td>\n",
       "      <td>NaN</td>\n",
       "    </tr>\n",
       "    <tr>\n",
       "      <th>1996</th>\n",
       "      <td>1858197_20ch0</td>\n",
       "      <td>NaN</td>\n",
       "    </tr>\n",
       "    <tr>\n",
       "      <th>1997</th>\n",
       "      <td>859387_25ch0</td>\n",
       "      <td>NaN</td>\n",
       "    </tr>\n",
       "    <tr>\n",
       "      <th>1998</th>\n",
       "      <td>801334_23ch0</td>\n",
       "      <td>NaN</td>\n",
       "    </tr>\n",
       "    <tr>\n",
       "      <th>1999</th>\n",
       "      <td>211560_23ch0</td>\n",
       "      <td>NaN</td>\n",
       "    </tr>\n",
       "  </tbody>\n",
       "</table>\n",
       "<p>2000 rows × 2 columns</p>\n",
       "</div>"
      ],
      "text/plain": [
       "         image_name  number_label\n",
       "0     1697685_23ch1           NaN\n",
       "1      669294_20ch0           NaN\n",
       "2      601343_19ch0           NaN\n",
       "3       18058_26ch1           NaN\n",
       "4     1261837_25ch0           NaN\n",
       "...             ...           ...\n",
       "1995   306859_20ch0           NaN\n",
       "1996  1858197_20ch0           NaN\n",
       "1997   859387_25ch0           NaN\n",
       "1998   801334_23ch0           NaN\n",
       "1999   211560_23ch0           NaN\n",
       "\n",
       "[2000 rows x 2 columns]"
      ]
     },
     "execution_count": 16,
     "metadata": {},
     "output_type": "execute_result"
    }
   ],
   "source": [
    "## directory of set of images i would like to label + corresponding csv to populate\n",
    "folder_path = '/gws/nopw/j04/dcmex/users/ezriab/image_labelling/2ds_2000_010125/'\n",
    "test_path = '/gws/nopw/j04/dcmex/users/ezriab/image_labelling/'\n",
    "# open csv quickly to check it is correct + in the format we expect\n",
    "csv_file_name = '2ds_2000_010125'\n",
    "saving_csv_name = '2ds_2000_010125_1st.csv'\n",
    "csv_full_path = os.path.join(folder_path,csv_file_name+'.csv')\n",
    "csv_read_pd = pd.read_csv(csv_full_path)\n",
    "print(f'reading {csv_full_path}')\n",
    "print(f'saving to {folder_path+saving_csv_name}')\n",
    "csv_read_pd"
   ]
  },
  {
   "cell_type": "code",
   "execution_count": 17,
   "id": "5c851a1c-731a-4273-9d8c-ceacbbc7c823",
   "metadata": {},
   "outputs": [
    {
     "name": "stdout",
     "output_type": "stream",
     "text": [
      "1578023_20ch1\n"
     ]
    },
    {
     "data": {
      "image/png": "[encoded data removed]",
      "text/plain": [
       "<Figure size 1000x1000 with 1 Axes>"
      ]
     },
     "metadata": {},
     "output_type": "display_data"
    },
    {
     "name": "stdin",
     "output_type": "stream",
     "text": [
      "Enter a label (0-9 or 11, or 'stop' to quit):  stop\n"
     ]
    },
    {
     "name": "stdout",
     "output_type": "stream",
     "text": [
      "Stopped labeling.\n",
      "2ds_2000_010125_1st.csv saved!\n"
     ]
    },
    {
     "ename": "SystemExit",
     "evalue": "",
     "output_type": "error",
     "traceback": [
      "An exception has occurred, use %tb to see the full traceback.\n",
      "\u001b[0;31mSystemExit\u001b[0m\n"
     ]
    },
    {
     "name": "stderr",
     "output_type": "stream",
     "text": [
      "/opt/jaspy/lib/python3.11/site-packages/IPython/core/interactiveshell.py:3585: UserWarning: To exit: use 'exit', 'quit', or Ctrl-D.\n",
      "  warn(\"To exit: use 'exit', 'quit', or Ctrl-D.\", stacklevel=1)\n"
     ]
    }
   ],
   "source": [
    "###### function to ensure all images are captured + save the new csv\n",
    "\n",
    "def saving_function(new_images, new_labels, og_df_name_list):\n",
    "    if len(new_images) < len(og_df_name_list):\n",
    "        not_labelled = list(set(og_df_name_list) - set(new_images))\n",
    "        new_images.extend(not_labelled)  # Modifies the list in place\n",
    "        new_labels.extend([np.nan] * len(not_labelled))\n",
    "\n",
    "    new_csv_dic = {'image_name': new_images, 'number_label':new_labels}\n",
    "    df = pd.DataFrame(new_csv_dic)\n",
    "    df.to_csv(full_save_csv_path, index=False)\n",
    "    print(f'{saving_csv_name} saved!')\n",
    "    return df\n",
    "\n",
    "# some things need to be defined before starting the processing loop\n",
    "image_name_lst = []\n",
    "new_image_label_lst = []\n",
    "all_image_names = list(csv_read_pd['image_name'])\n",
    "full_save_csv_path = os.path.join(folder_path,saving_csv_name)\n",
    "\n",
    "\n",
    "with open(csv_full_path, mode='r') as file:\n",
    "    csv_reader = csv.reader(file)\n",
    "    header = next(csv_reader)  # Read the header row\n",
    "    # loop through each row\n",
    "    for row in csv_reader:\n",
    "        image_name = row[0]\n",
    "        label = row[1]        \n",
    "        \n",
    "        # label returns false for nan, so will just write names / labels aleady there\n",
    "        if label: \n",
    "            #num = int(label) # convert to number (corresponding to label)\n",
    "            image_name_lst.append(image_name)\n",
    "            new_image_label_lst.append(num)\n",
    "                \n",
    "        ## if is a nan, will follow this loop for labelling\n",
    "        else:\n",
    "            print(image_name)\n",
    "            im = Image.open(os.path.join(folder_path, image_name + '.png'))\n",
    "            plt.figure(figsize=(10, 10))\n",
    "            plt.imshow(im)\n",
    "            plt.axis('off')\n",
    "            plt.show()\n",
    "            while True: # loop will continue until a valid entry is passed\n",
    "                inp = input(\"Enter a label (0-9 or 11, or 'stop' to quit): \") ## label of image\n",
    "\n",
    "                ## if write 'stop' will stop labelling + save what has been done\n",
    "                if inp.lower() == 'stop':\n",
    "                    print(\"Stopped labeling.\")\n",
    "                    done_images = saving_function(image_name_lst,new_image_label_lst,all_image_names)\n",
    "                    raise SystemExit  # Exit gracefully\n",
    "                \n",
    "                try:\n",
    "                    num = int(inp) # convert to number (corresponding to label)\n",
    "                    if 0 <= num <= 11:  # Check if the number is in the valid range\n",
    "                        clear_output(wait=True) # get rid of image once you've labelled it\n",
    "                        image_name_lst.append(image_name)\n",
    "                        new_image_label_lst.append(num)\n",
    "                        break  # Exit the loop if the input is valid\n",
    "                    else:\n",
    "                        print(\"Error: Label must be between 0 and 11.\")\n",
    "                except ValueError: # if we don't input a number -> stop labelling, so will break\n",
    "                    print(\"not words, what are you doing???\")\n",
    "                    \n",
    "                    \n",
    "done_images = saving_function(image_name_lst,new_image_label_lst,all_image_names)"
   ]
  },
  {
   "cell_type": "code",
   "execution_count": 18,
   "id": "8f2fec95-e0d9-4d78-a8bf-cfcfabb8e797",
   "metadata": {},
   "outputs": [
    {
     "data": {
      "text/plain": [
       "1329"
      ]
     },
     "execution_count": 18,
     "metadata": {},
     "output_type": "execute_result"
    }
   ],
   "source": [
    "done_images['number_label'].count()\n",
    "#df.to_csv(csv_file_list[0], index=False) "
   ]
  },
  {
   "cell_type": "code",
   "execution_count": 19,
   "id": "abd80c9a-6b0c-4e92-b811-19d3f6f34755",
   "metadata": {},
   "outputs": [
    {
     "data": {
      "text/html": [
       "<div>\n",
       "<style scoped>\n",
       "    .dataframe tbody tr th:only-of-type {\n",
       "        vertical-align: middle;\n",
       "    }\n",
       "\n",
       "    .dataframe tbody tr th {\n",
       "        vertical-align: top;\n",
       "    }\n",
       "\n",
       "    .dataframe thead th {\n",
       "        text-align: right;\n",
       "    }\n",
       "</style>\n",
       "<table border=\"1\" class=\"dataframe\">\n",
       "  <thead>\n",
       "    <tr style=\"text-align: right;\">\n",
       "      <th></th>\n",
       "      <th>image_name</th>\n",
       "      <th>number_label</th>\n",
       "    </tr>\n",
       "  </thead>\n",
       "  <tbody>\n",
       "    <tr>\n",
       "      <th>0</th>\n",
       "      <td>1697685_23ch1</td>\n",
       "      <td>1.0</td>\n",
       "    </tr>\n",
       "    <tr>\n",
       "      <th>1</th>\n",
       "      <td>669294_20ch0</td>\n",
       "      <td>1.0</td>\n",
       "    </tr>\n",
       "    <tr>\n",
       "      <th>2</th>\n",
       "      <td>601343_19ch0</td>\n",
       "      <td>1.0</td>\n",
       "    </tr>\n",
       "    <tr>\n",
       "      <th>3</th>\n",
       "      <td>18058_26ch1</td>\n",
       "      <td>1.0</td>\n",
       "    </tr>\n",
       "    <tr>\n",
       "      <th>4</th>\n",
       "      <td>1261837_25ch0</td>\n",
       "      <td>3.0</td>\n",
       "    </tr>\n",
       "    <tr>\n",
       "      <th>...</th>\n",
       "      <td>...</td>\n",
       "      <td>...</td>\n",
       "    </tr>\n",
       "    <tr>\n",
       "      <th>1995</th>\n",
       "      <td>1304105_25ch1</td>\n",
       "      <td>NaN</td>\n",
       "    </tr>\n",
       "    <tr>\n",
       "      <th>1996</th>\n",
       "      <td>37728_23ch1</td>\n",
       "      <td>NaN</td>\n",
       "    </tr>\n",
       "    <tr>\n",
       "      <th>1997</th>\n",
       "      <td>7221_01ch0</td>\n",
       "      <td>NaN</td>\n",
       "    </tr>\n",
       "    <tr>\n",
       "      <th>1998</th>\n",
       "      <td>536830_20ch0</td>\n",
       "      <td>NaN</td>\n",
       "    </tr>\n",
       "    <tr>\n",
       "      <th>1999</th>\n",
       "      <td>1415664_20ch1</td>\n",
       "      <td>NaN</td>\n",
       "    </tr>\n",
       "  </tbody>\n",
       "</table>\n",
       "<p>2000 rows × 2 columns</p>\n",
       "</div>"
      ],
      "text/plain": [
       "         image_name  number_label\n",
       "0     1697685_23ch1           1.0\n",
       "1      669294_20ch0           1.0\n",
       "2      601343_19ch0           1.0\n",
       "3       18058_26ch1           1.0\n",
       "4     1261837_25ch0           3.0\n",
       "...             ...           ...\n",
       "1995  1304105_25ch1           NaN\n",
       "1996    37728_23ch1           NaN\n",
       "1997     7221_01ch0           NaN\n",
       "1998   536830_20ch0           NaN\n",
       "1999  1415664_20ch1           NaN\n",
       "\n",
       "[2000 rows x 2 columns]"
      ]
     },
     "execution_count": 19,
     "metadata": {},
     "output_type": "execute_result"
    }
   ],
   "source": [
    "folder_path = '/gws/nopw/j04/dcmex/users/ezriab/image_labelling/2ds_2000_010125/'\n",
    "an_path = os.path.join(folder_path,'2ds_2000_010125_1st.csv')\n",
    "quick_check_csv = pd.read_csv(an_path)\n",
    "quick_check_csv[]"
   ]
  },
  {
   "cell_type": "code",
   "execution_count": 20,
   "id": "ab9f88e7-5bfa-4ce3-a1bb-856ac1c364a2",
   "metadata": {},
   "outputs": [
    {
     "data": {
      "text/plain": [
       "1329"
      ]
     },
     "execution_count": 20,
     "metadata": {},
     "output_type": "execute_result"
    }
   ],
   "source": [
    "quick_check_csv['number_label'].count()"
   ]
  },
  {
   "cell_type": "code",
   "execution_count": 23,
   "id": "33386025-0b12-44f7-833a-762d359ad903",
   "metadata": {},
   "outputs": [
    {
     "data": {
      "text/plain": [
       "'/home/users/esree/CNN_basics/save_progress/2ds_2000_010125_1st.csv'"
      ]
     },
     "execution_count": 23,
     "metadata": {},
     "output_type": "execute_result"
    }
   ],
   "source": [
    "## copy newly labelled csv to github too\n",
    "git_path = '/home/users/esree/CNN_basics/save_progress/'\n",
    "shutil.copy(full_save_csv_path, git_path)"
   ]
  },
  {
   "cell_type": "code",
   "execution_count": null,
   "id": "3dfbc05b-b06e-411f-bd38-98a2a50a3c7d",
   "metadata": {},
   "outputs": [],
   "source": []
  }
 ],
 "metadata": {
  "kernelspec": {
   "display_name": "Python 3 + Jaspy",
   "language": "python",
   "name": "jaspy"
  },
  "language_info": {
   "codemirror_mode": {
    "name": "ipython",
    "version": 3
   },
   "file_extension": ".py",
   "mimetype": "text/x-python",
   "name": "python",
   "nbconvert_exporter": "python",
   "pygments_lexer": "ipython3",
   "version": "3.11.9"
  }
 },
 "nbformat": 4,
 "nbformat_minor": 5
}
