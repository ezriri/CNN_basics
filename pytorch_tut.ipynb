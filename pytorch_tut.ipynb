{
 "cells": [
  {
   "cell_type": "markdown",
   "id": "00d39c2b-e294-4a0d-b5b1-4f2c53c4eb66",
   "metadata": {},
   "source": [
    "# Pytorch tutorial"
   ]
  },
  {
   "cell_type": "markdown",
   "id": "6d5ba903-3909-4453-8afa-aa99f5277818",
   "metadata": {},
   "source": [
    "basically running through code from:\n",
    "https://pytorch.org/tutorials/beginner/basics/intro.html"
   ]
  },
  {
   "cell_type": "code",
   "execution_count": 19,
   "id": "d6cd99ee-bb18-48b6-858a-495c7f283e8d",
   "metadata": {},
   "outputs": [],
   "source": [
    "import torch\n",
    "import numpy as np"
   ]
  },
  {
   "cell_type": "markdown",
   "id": "ec66b178-6d14-4e58-9019-eb1e979fbc64",
   "metadata": {
    "jp-MarkdownHeadingCollapsed": true
   },
   "source": [
    "## Tensors\n",
    "Tensor = data structure similar to arrays + matrices. Used to encode input + output of model + model parameters.\n",
    "* similar to NumPy ndarrays"
   ]
  },
  {
   "cell_type": "markdown",
   "id": "f3552e4f-c7b4-4874-95ee-8ed56ac33e01",
   "metadata": {
    "jp-MarkdownHeadingCollapsed": true
   },
   "source": [
    "### initalise a tensor"
   ]
  },
  {
   "cell_type": "code",
   "execution_count": 10,
   "id": "13f53f47-4b65-4b13-9593-44b11bcd7d14",
   "metadata": {},
   "outputs": [],
   "source": [
    "## directly from data:\n",
    "data = [[1, 2],[3, 4]]\n",
    "x_data = torch.tensor(data)\n",
    "\n",
    "## from numpy array:\n",
    "np_array = np.array(data)\n",
    "x_np = torch.from_numpy(np_array)\n",
    "\n",
    "## from another tensor (retain properties - shape + datatype):\n",
    "x_ones = torch.ones_like(x_data) # retains the properties of x_data\n",
    "x_rand = torch.rand_like(x_data, dtype=torch.float) # overrides the datatype of x_data\n",
    "\n",
    "## random / constant values:\n",
    "shape = (2,3,)\n",
    "rand_tensor = torch.rand(shape)\n",
    "ones_tensor = torch.ones(shape)\n",
    "zeros_tensor = torch.zeros(shape)"
   ]
  },
  {
   "cell_type": "markdown",
   "id": "3af6d195-944a-4395-a200-8f85a5eca5b2",
   "metadata": {
    "jp-MarkdownHeadingCollapsed": true
   },
   "source": [
    "### attributes of tensor\n",
    "* shape / datatype / device they are stored on"
   ]
  },
  {
   "cell_type": "code",
   "execution_count": 4,
   "id": "f95ce5c9-6519-477f-ae90-9c197e48d8d6",
   "metadata": {},
   "outputs": [
    {
     "name": "stdout",
     "output_type": "stream",
     "text": [
      "Shape of tensor: torch.Size([3, 4])\n",
      "Datatype of tensor: torch.float32\n",
      "Device tensor is stored on: cpu\n"
     ]
    },
    {
     "data": {
      "text/plain": [
       "tensor([[0.8578, 0.5946, 0.5592, 0.7401],\n",
       "        [0.8936, 0.1229, 0.1231, 0.5772],\n",
       "        [0.1511, 0.8145, 0.8350, 0.7148]])"
      ]
     },
     "execution_count": 4,
     "metadata": {},
     "output_type": "execute_result"
    }
   ],
   "source": [
    "tensor = torch.rand(3,4)\n",
    "print(f\"Shape of tensor: {tensor.shape}\")\n",
    "print(f\"Datatype of tensor: {tensor.dtype}\")\n",
    "print(f\"Device tensor is stored on: {tensor.device}\")\n",
    "tensor"
   ]
  },
  {
   "cell_type": "markdown",
   "id": "034dfcb8-0481-4240-a733-463325184a4f",
   "metadata": {
    "jp-MarkdownHeadingCollapsed": true
   },
   "source": [
    "### operations on tensors\n",
    "some docs: https://pytorch.org/docs/stable/torch.html\n",
    "* lot of different operations possible: arithmetic, algebra, matrix manipulation, sampling etc.\n",
    "    * i.e. slicing, joining etc\n",
    "* usually ran on GPU, so want to move it over"
   ]
  },
  {
   "cell_type": "code",
   "execution_count": 7,
   "id": "3de30654-a761-4315-be04-65a0d0c641f6",
   "metadata": {
    "jupyter": {
     "source_hidden": true
    }
   },
   "outputs": [],
   "source": [
    "if torch.cuda.is_available():\n",
    "    tensor = tensor.to(\"cuda\")"
   ]
  },
  {
   "cell_type": "code",
   "execution_count": 9,
   "id": "320d4e7c-9198-49d0-a30d-6922e9322fb5",
   "metadata": {
    "collapsed": true,
    "jupyter": {
     "outputs_hidden": true
    }
   },
   "outputs": [
    {
     "name": "stdout",
     "output_type": "stream",
     "text": [
      "First row: tensor([1., 1., 1., 1.])\n",
      "First column: tensor([1., 1., 1., 1.])\n",
      "Last column: tensor([1., 1., 1., 1.])\n",
      "tensor([[1., 0., 1., 1.],\n",
      "        [1., 0., 1., 1.],\n",
      "        [1., 0., 1., 1.],\n",
      "        [1., 0., 1., 1.]])\n",
      "tensor([[1., 0., 1., 1., 1., 0., 1., 1., 1., 0., 1., 1.],\n",
      "        [1., 0., 1., 1., 1., 0., 1., 1., 1., 0., 1., 1.],\n",
      "        [1., 0., 1., 1., 1., 0., 1., 1., 1., 0., 1., 1.],\n",
      "        [1., 0., 1., 1., 1., 0., 1., 1., 1., 0., 1., 1.]])\n"
     ]
    }
   ],
   "source": [
    "# we can do normal slicing\n",
    "tensor = torch.ones(4, 4)\n",
    "print(f\"First row: {tensor[0]}\")\n",
    "print(f\"First column: {tensor[:, 0]}\")\n",
    "print(f\"Last column: {tensor[..., -1]}\")\n",
    "tensor[:,1] = 0 # i.e all rows, the 1 column, make = 1\n",
    "print(tensor)\n",
    "\n",
    "# do concat, along a given dimension\n",
    "t1 = torch.cat([tensor, tensor, tensor], dim=1)\n",
    "print(t1)"
   ]
  },
  {
   "cell_type": "code",
   "execution_count": 11,
   "id": "144cf104-7d4b-46e0-a745-689afb638938",
   "metadata": {},
   "outputs": [
    {
     "data": {
      "text/plain": [
       "tensor([[1., 0., 1., 1.],\n",
       "        [1., 0., 1., 1.],\n",
       "        [1., 0., 1., 1.],\n",
       "        [1., 0., 1., 1.]])"
      ]
     },
     "execution_count": 11,
     "metadata": {},
     "output_type": "execute_result"
    }
   ],
   "source": [
    "## maths operations\n",
    "# matrix multiplication between two tensors. y1, y2, y3 will have the same value\n",
    "# ``tensor.T`` returns the transpose of a tensor\n",
    "y1 = tensor @ tensor.T\n",
    "y2 = tensor.matmul(tensor.T)\n",
    "y3 = torch.rand_like(y1)\n",
    "torch.matmul(tensor, tensor.T, out=y3)\n",
    "\n",
    "# This computes the element-wise product. z1, z2, z3 will have the same value\n",
    "z1 = tensor * tensor\n",
    "z2 = tensor.mul(tensor)\n",
    "z3 = torch.rand_like(tensor)\n",
    "torch.mul(tensor, tensor, out=z3)"
   ]
  },
  {
   "cell_type": "code",
   "execution_count": 12,
   "id": "e77d3a8e-c058-4780-b191-42276a342bb9",
   "metadata": {},
   "outputs": [
    {
     "name": "stdout",
     "output_type": "stream",
     "text": [
      "12.0 <class 'float'>\n"
     ]
    }
   ],
   "source": [
    "## single element tensors -> can aggregate all values into 1 value + convert to numerical value\n",
    "agg = tensor.sum()\n",
    "agg_item = agg.item()\n",
    "print(agg_item, type(agg_item))"
   ]
  },
  {
   "cell_type": "code",
   "execution_count": 13,
   "id": "37caa54b-7875-46f4-8826-6b028824669a",
   "metadata": {},
   "outputs": [
    {
     "name": "stdout",
     "output_type": "stream",
     "text": [
      "tensor([[1., 0., 1., 1.],\n",
      "        [1., 0., 1., 1.],\n",
      "        [1., 0., 1., 1.],\n",
      "        [1., 0., 1., 1.]]) \n",
      "\n",
      "tensor([[6., 5., 6., 6.],\n",
      "        [6., 5., 6., 6.],\n",
      "        [6., 5., 6., 6.],\n",
      "        [6., 5., 6., 6.]])\n"
     ]
    }
   ],
   "source": [
    "## in place operations, store results into operand (a given space) -> in-place.\n",
    "# denoted by `_` \n",
    "print(f\"{tensor} \\n\")\n",
    "tensor.add_(5)\n",
    "print(tensor)"
   ]
  },
  {
   "cell_type": "markdown",
   "id": "6c047250-e0e2-4eae-99c1-481cbf467bce",
   "metadata": {
    "jp-MarkdownHeadingCollapsed": true
   },
   "source": [
    "### Bridge with NumPy\n",
    "* can share underlying memory locations + change one another"
   ]
  },
  {
   "cell_type": "code",
   "execution_count": 14,
   "id": "060715a5-b5ca-4260-a8f4-8cd762490237",
   "metadata": {},
   "outputs": [
    {
     "name": "stdout",
     "output_type": "stream",
     "text": [
      "t: tensor([1., 1., 1., 1., 1.])\n",
      "n: [1. 1. 1. 1. 1.]\n"
     ]
    }
   ],
   "source": [
    "## Tensor -> NumPy array\n",
    "t = torch.ones(5)\n",
    "print(f\"t: {t}\")\n",
    "n = t.numpy()\n",
    "print(f\"n: {n}\")"
   ]
  },
  {
   "cell_type": "code",
   "execution_count": 15,
   "id": "79d55950-c750-490e-b84c-9d80cab3af44",
   "metadata": {},
   "outputs": [
    {
     "name": "stdout",
     "output_type": "stream",
     "text": [
      "t: tensor([2., 2., 2., 2., 2.])\n",
      "n: [2. 2. 2. 2. 2.]\n"
     ]
    }
   ],
   "source": [
    "# change in Tensor -> impact array\n",
    "t.add_(1)\n",
    "print(f\"t: {t}\")\n",
    "print(f\"n: {n}\")"
   ]
  },
  {
   "cell_type": "code",
   "execution_count": 16,
   "id": "3c821a68-52a4-439e-a176-9bf532fa3f21",
   "metadata": {},
   "outputs": [
    {
     "name": "stdout",
     "output_type": "stream",
     "text": [
      "t: tensor([2., 2., 2., 2., 2.], dtype=torch.float64)\n",
      "n: [2. 2. 2. 2. 2.]\n"
     ]
    }
   ],
   "source": [
    "## Numpy array -> Tensor\n",
    "n = np.ones(5)\n",
    "t = torch.from_numpy(n)\n",
    "\n",
    "# same again, change array -> change tensor\n",
    "np.add(n, 1, out=n)\n",
    "print(f\"t: {t}\")\n",
    "print(f\"n: {n}\")"
   ]
  },
  {
   "cell_type": "markdown",
   "id": "d7f6f2cf-10d3-4ee6-9b3a-3ca26105a3d0",
   "metadata": {
    "jp-MarkdownHeadingCollapsed": true
   },
   "source": [
    "## Datasets + DataLoaders\n",
    "Best practice: seperate dataset code from model training = better readability and modularity.\n",
    "\\\n",
    "PyTorch gives `DataLoader` and `Dataset`, to pre-load datasets + own data.\n",
    "* `Dataset` = store samples + corresponding labels\n",
    "* `DataLoader` = wrap iterable around `Dataset` - easy access to samples."
   ]
  },
  {
   "cell_type": "markdown",
   "id": "20589cda-edb2-45cd-86cf-930e8c06ddd6",
   "metadata": {},
   "source": [
    "### loading a dataset\n",
    "we are using Pytorch example:Fashion-MNIST 60,000 training + 10,000 test. 28x28 greyscale image, with label from from 10 classes\n",
    "\\\n",
    "loaded with these parameters:\n",
    "* `root` = path train / test data stored\n",
    "* `train` = specify training / test dataset (i.e. test dataset is false)\n",
    "* `download = True` = download data from internet if not available at root\n",
    "* `transform` and `target_transform` = specify feature + label transformations"
   ]
  },
  {
   "cell_type": "code",
   "execution_count": 20,
   "id": "bb8dfca7-b91d-4b9f-929d-93b8f15f7307",
   "metadata": {},
   "outputs": [],
   "source": [
    "import torch\n",
    "from torch.utils.data import Dataset\n",
    "from torchvision import datasets\n",
    "from torchvision.transforms import ToTensor\n",
    "import matplotlib.pyplot as plt\n",
    "\n",
    "training_data = datasets.FashionMNIST(\n",
    "    root=\"data\",\n",
    "    train=True,\n",
    "    download=True,\n",
    "    transform=ToTensor()\n",
    ")\n",
    "\n",
    "test_data = datasets.FashionMNIST(\n",
    "    root=\"data\",\n",
    "    train=False,\n",
    "    download=True,\n",
    "    transform=ToTensor()\n",
    ")"
   ]
  },
  {
   "cell_type": "markdown",
   "id": "d1ccb6c6-77f4-4000-b738-bba15d80dae6",
   "metadata": {},
   "source": [
    "### iterating and visualising the dataset\n",
    "we can index `Datasets` manually like a list: `training_data[index]`. Matplotlib used to visualise samples in training data."
   ]
  },
  {
   "cell_type": "code",
   "execution_count": 22,
   "id": "8875c9e7-bff5-458f-a2e7-9a9dfa4d7334",
   "metadata": {},
   "outputs": [
    {
     "data": {
      "image/png": "[encoded data removed]",
      "text/plain": [
       "<Figure size 800x800 with 9 Axes>"
      ]
     },
     "metadata": {},
     "output_type": "display_data"
    }
   ],
   "source": [
    "labels_map = {\n",
    "    0: \"T-Shirt\",\n",
    "    1: \"Trouser\",\n",
    "    2: \"Pullover\",\n",
    "    3: \"Dress\",\n",
    "    4: \"Coat\",\n",
    "    5: \"Sandal\",\n",
    "    6: \"Shirt\",\n",
    "    7: \"Sneaker\",\n",
    "    8: \"Bag\",\n",
    "    9: \"Ankle Boot\",\n",
    "}\n",
    "figure = plt.figure(figsize=(8, 8))\n",
    "cols, rows = 3, 3\n",
    "for i in range(1, cols * rows + 1):\n",
    "    sample_idx = torch.randint(len(training_data), size=(1,)).item()\n",
    "    img, label = training_data[sample_idx]\n",
    "    figure.add_subplot(rows, cols, i)\n",
    "    plt.title(labels_map[label])\n",
    "    plt.axis(\"off\")\n",
    "    plt.imshow(img.squeeze(), cmap=\"gray\")\n",
    "plt.show()"
   ]
  },
  {
   "cell_type": "markdown",
   "id": "edb7c9ba-32d6-4c8b-b24b-48339a0d5ed8",
   "metadata": {},
   "source": [
    "### custom dataset for our files\n",
    "must implement 3 functions:  `__init__`, `__len__`, and `__getitem__`\n",
    "\\\n",
    "for our example data FashionMNIST, images are stored in `img_dir`, while labels are stored seperately in CSV file `annotations_file`"
   ]
  },
  {
   "cell_type": "code",
   "execution_count": 23,
   "id": "08371095-9aa6-4cc8-9c44-16934b47c8e4",
   "metadata": {},
   "outputs": [],
   "source": [
    "import os\n",
    "import pandas as pd\n",
    "from torchvision.io import read_image\n",
    "\n",
    "class CustomImageDataset(Dataset):\n",
    "    def __init__(self, annotations_file, img_dir, transform=None, target_transform=None):\n",
    "        self.img_labels = pd.read_csv(annotations_file)\n",
    "        self.img_dir = img_dir\n",
    "        self.transform = transform\n",
    "        self.target_transform = target_transform\n",
    "\n",
    "    def __len__(self):\n",
    "        return len(self.img_labels)\n",
    "\n",
    "    def __getitem__(self, idx):\n",
    "        img_path = os.path.join(self.img_dir, self.img_labels.iloc[idx, 0])\n",
    "        image = read_image(img_path)\n",
    "        label = self.img_labels.iloc[idx, 1]\n",
    "        if self.transform:\n",
    "            image = self.transform(image)\n",
    "        if self.target_transform:\n",
    "            label = self.target_transform(label)\n",
    "        return image, label"
   ]
  },
  {
   "cell_type": "markdown",
   "id": "44174181-1a44-45c4-9f2b-480b0af9cf77",
   "metadata": {},
   "source": [
    "#### `__init__`\n",
    "* ran once when reading in dataset object.\n",
    "* creating a instance of dataset class\n",
    "* initialise dataset + pass parameters / configurations to dataset\n",
    "* i.e. specifying directory of images and annotations file (and transforms)"
   ]
  },
  {
   "cell_type": "raw",
   "id": "6a3a7c82-851c-4dbf-b161-7201c656c8cc",
   "metadata": {},
   "source": [
    "labels.csv file:\n",
    "tshirt1.jpg, 0\n",
    "tshirt2.jpg, 0\n",
    "......\n",
    "ankleboot999.jpg, 9"
   ]
  },
  {
   "cell_type": "code",
   "execution_count": 25,
   "id": "58e9b513-5ee8-445b-ab96-5d2ffcef9fcd",
   "metadata": {},
   "outputs": [],
   "source": [
    "def __init__(self, annotations_file, img_dir, transform=None, target_transform=None):\n",
    "    self.img_labels = pd.read_csv(annotations_file)\n",
    "    self.img_dir = img_dir\n",
    "    self.transform = transform\n",
    "    self.target_transform = target_transform"
   ]
  },
  {
   "cell_type": "markdown",
   "id": "3833938a-981b-4bbf-85a5-1f91e723d7be",
   "metadata": {},
   "source": [
    "#### `__len__`\n",
    "* specify length of dataset - i.e. total number of samples\n",
    "* return integer"
   ]
  },
  {
   "cell_type": "code",
   "execution_count": 27,
   "id": "f3775850-1290-44c8-811f-bfec042a948b",
   "metadata": {},
   "outputs": [],
   "source": [
    "def __len__(self):\n",
    "    return len(self.img_labels)"
   ]
  },
  {
   "cell_type": "markdown",
   "id": "424d301a-0828-454a-aa38-913105463c1f",
   "metadata": {},
   "source": [
    "#### `__getitem__`\n",
    "* retrieve a sample from dataset in a given index\n",
    "* take index input, identify image location on disk, convert to tensor using `read_image`, retrieve corresponding label from csv data in `self.img_labels`, call transform function on them (if applicable), return tensor image + correpsonding label in tupel."
   ]
  },
  {
   "cell_type": "code",
   "execution_count": 28,
   "id": "0f92fd52-c100-4acf-9667-3cbe7c4c6662",
   "metadata": {},
   "outputs": [],
   "source": [
    "def __getitem__(self, idx):\n",
    "    img_path = os.path.join(self.img_dir, self.img_labels.iloc[idx, 0])\n",
    "    image = read_image(img_path)\n",
    "    label = self.img_labels.iloc[idx, 1]\n",
    "    if self.transform:\n",
    "        image = self.transform(image)\n",
    "    if self.target_transform:\n",
    "        label = self.target_transform(label)\n",
    "    return image, label"
   ]
  },
  {
   "cell_type": "markdown",
   "id": "5552b219-9c14-4f1f-9ac3-21bc0dfcd3db",
   "metadata": {},
   "source": [
    "### prepare data for training with DataLoader\n",
    "`Dataset` retrieve dataset features + labels one sample at a time. But training a model, we want to pass in 'minibatches' + reshuffle the data at every epoch = reduce overfitting. use Python `multiprocessing` to speed up data retrieveal. \n",
    "\\\n",
    "`DataLoader` = iterable that simplifys the process"
   ]
  },
  {
   "cell_type": "code",
   "execution_count": 29,
   "id": "ad56976a-a8b5-44f3-9753-15ea74f9bfc6",
   "metadata": {},
   "outputs": [],
   "source": [
    "from torch.utils.data import DataLoader\n",
    "\n",
    "train_dataloader = DataLoader(training_data, batch_size=64, shuffle=True)\n",
    "test_dataloader = DataLoader(test_data, batch_size=64, shuffle=True)"
   ]
  },
  {
   "cell_type": "markdown",
   "id": "f6288953-d8e1-49c2-a1dd-561f43b2272e",
   "metadata": {},
   "source": [
    "### Iterate through the DataLoader\n",
    "Loaded dataset into DataLoader, can iterate through dataset as needed. \n",
    "\\\n",
    "iteration below return batch of `train_features` and `train_labels` (`batch_size=64` features + labels repectively). As `shuffle=True`, after each epoch, all batches of data is shuffled. (for more control over data loading order, look at samplers)."
   ]
  },
  {
   "cell_type": "code",
   "execution_count": 30,
   "id": "b8aa1ca2-cd94-432e-8e90-6221e342623a",
   "metadata": {},
   "outputs": [
    {
     "name": "stdout",
     "output_type": "stream",
     "text": [
      "Feature batch shape: torch.Size([64, 1, 28, 28])\n",
      "Labels batch shape: torch.Size([64])\n"
     ]
    },
    {
     "data": {
      "image/png": "[encoded data removed]",
      "text/plain": [
       "<Figure size 640x480 with 1 Axes>"
      ]
     },
     "metadata": {},
     "output_type": "display_data"
    },
    {
     "name": "stdout",
     "output_type": "stream",
     "text": [
      "Label: 2\n"
     ]
    }
   ],
   "source": [
    "# Display image and label.\n",
    "train_features, train_labels = next(iter(train_dataloader))\n",
    "print(f\"Feature batch shape: {train_features.size()}\")\n",
    "print(f\"Labels batch shape: {train_labels.size()}\")\n",
    "img = train_features[0].squeeze()\n",
    "label = train_labels[0]\n",
    "plt.imshow(img, cmap=\"gray\")\n",
    "plt.show()\n",
    "print(f\"Label: {label}\")"
   ]
  },
  {
   "cell_type": "markdown",
   "id": "cb8290c1-ccff-4ea2-b9dd-21a61ffc7ebe",
   "metadata": {},
   "source": [
    "## Transforms\n",
    "Data does not always come in final processed form needed for training ML algorithms. \n",
    "\\\n",
    "Transforms = perform some manipulation of data -> suitable for training.\n",
    "\\\n",
    "TorchVision dataset -> 2 parameters: `transform` (modify the features of the image) and `target_transform` (modify the labels). Both accept callables containing transformation logic.\n",
    "\\\n",
    "FashionMNIST are in PIL image format, labels = integers. For training, need features as normalised tensors, and labels as one-hot encoded tensors. To make these trandformations, use `ToTensor` and `Lambda`."
   ]
  },
  {
   "cell_type": "code",
   "execution_count": 31,
   "id": "6e550614-fee1-4aa0-a2a3-67c69aeca869",
   "metadata": {},
   "outputs": [],
   "source": [
    "import torch\n",
    "from torchvision import datasets\n",
    "from torchvision.transforms import ToTensor, Lambda\n",
    "\n",
    "ds = datasets.FashionMNIST(\n",
    "    root=\"data\",\n",
    "    train=True,\n",
    "    download=True,\n",
    "    transform=ToTensor(),\n",
    "    target_transform=Lambda(lambda y: torch.zeros(10, dtype=torch.float).scatter_(0, torch.tensor(y), value=1))\n",
    ")"
   ]
  },
  {
   "cell_type": "markdown",
   "id": "78add2b5-675f-4546-be37-56587a3d7d5e",
   "metadata": {},
   "source": [
    "### `ToTensor()`\n",
    "* convert any PIL image / NumPy `ndarray` -> `FloatTensor` + scale image pixel intensity values [0.,1.]"
   ]
  },
  {
   "cell_type": "markdown",
   "id": "95107b62-b9a3-498c-a5ce-b1d19884a1af",
   "metadata": {},
   "source": [
    "### `Lambda` transformations\n",
    "* apply any user-defined lambda function. code below turn integer -> one-hot encoded tensor.\n",
    "* create 0 tensor of size 10 (number of labels in our dataset) + call `scatter_`, assign `value=1` on index as given by label `y`"
   ]
  },
  {
   "cell_type": "code",
   "execution_count": 32,
   "id": "41b489a9-1e3f-49ab-9e91-a61cb41a01b6",
   "metadata": {},
   "outputs": [],
   "source": [
    "target_transform = Lambda(lambda y: torch.zeros(\n",
    "    10, dtype=torch.float).scatter_(dim=0, index=torch.tensor(y), value=1))"
   ]
  },
  {
   "cell_type": "code",
   "execution_count": null,
   "id": "0aaab1a8-f901-434c-95ec-37e96e7207b4",
   "metadata": {},
   "outputs": [],
   "source": []
  }
 ],
 "metadata": {
  "kernelspec": {
   "display_name": "Python 3 + Jaspy",
   "language": "python",
   "name": "jaspy"
  },
  "language_info": {
   "codemirror_mode": {
    "name": "ipython",
    "version": 3
   },
   "file_extension": ".py",
   "mimetype": "text/x-python",
   "name": "python",
   "nbconvert_exporter": "python",
   "pygments_lexer": "ipython3",
   "version": "3.11.9"
  }
 },
 "nbformat": 4,
 "nbformat_minor": 5
}
