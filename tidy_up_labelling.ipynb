{
 "cells": [
  {
   "cell_type": "markdown",
   "id": "730200c7-fdf9-4eda-898e-f6ca0c93d409",
   "metadata": {},
   "source": [
    "just some quick code for combining csvs, and making devloping script to move all the images into 1 folder. "
   ]
  },
  {
   "cell_type": "code",
   "execution_count": 1,
   "id": "711d709c-2ef5-4feb-891c-b48bb6644e0a",
   "metadata": {},
   "outputs": [],
   "source": [
    "import numpy as np\n",
    "import pandas as pd\n",
    "import os\n",
    "from PIL import Image\n",
    "from glob import glob\n",
    "import csv\n",
    "import matplotlib.pyplot as plt\n",
    "from IPython.display import clear_output\n",
    "import math\n",
    "import shutil\n",
    "import zipfile"
   ]
  },
  {
   "cell_type": "code",
   "execution_count": 2,
   "id": "4acfe0d8-1c17-4e16-9caf-075fd36f20b5",
   "metadata": {},
   "outputs": [],
   "source": [
    "base_path = '/gws/nopw/j04/dcmex/users/ezriab/image_labelling/'\n",
    "original_folders = ['2ds_2000_010125','2ds_3000_030125','2ds_5000_100125']\n",
    "new_folder = '2ds_10000_sample'\n",
    "new_save_loc = base_path+new_folder+'/'"
   ]
  },
  {
   "cell_type": "markdown",
   "id": "0fe40137-70e9-4de5-906b-c0192532afa1",
   "metadata": {
    "jp-MarkdownHeadingCollapsed": true
   },
   "source": [
    "## concat all csvs"
   ]
  },
  {
   "cell_type": "code",
   "execution_count": 7,
   "id": "24cb00fa-c201-4788-b190-2aa887486a00",
   "metadata": {},
   "outputs": [
    {
     "name": "stdout",
     "output_type": "stream",
     "text": [
      "file contains:2000 images, 2000 are labelled\n",
      "file contains:3000 images, 3000 are labelled\n",
      "file contains:5000 images, 5000 are labelled\n"
     ]
    }
   ],
   "source": [
    "specif_csv_2000_pth = os.path.join(base_path, original_folders[0],'2ds_2000_010125_2nd.csv')\n",
    "specif_csv_3000_pth = os.path.join(base_path, original_folders[1],'2ds_3000_030125_4th.csv')\n",
    "specif_csv_5000_pth = os.path.join(base_path, original_folders[2],'2ds_5000_100125_7th.csv')\n",
    "\n",
    "specif_csv_2000 = pd.read_csv(specif_csv_2000_pth)\n",
    "specif_csv_3000 = pd.read_csv(specif_csv_3000_pth)\n",
    "specif_csv_5000 = pd.read_csv(specif_csv_5000_pth)\n",
    "\n",
    "all_csvs = [specif_csv_2000,specif_csv_3000,specif_csv_5000]\n",
    "count = [2000, 3000, 5000]\n",
    "for i in range(len(all_csvs)):\n",
    "    count_value = all_csvs[i]['number_label'].count()\n",
    "    print(f'file contains:{count[i]} images, {count_value} are labelled')"
   ]
  },
  {
   "cell_type": "code",
   "execution_count": 23,
   "id": "a1209ce9-d019-4cdb-bd95-3bba6a1e6fda",
   "metadata": {
    "scrolled": true
   },
   "outputs": [
    {
     "name": "stdout",
     "output_type": "stream",
     "text": [
      "save path: /gws/nopw/j04/dcmex/users/ezriab/image_labelling/2ds_10000_sample/\n"
     ]
    }
   ],
   "source": [
    "combined_df = pd.concat(all_csvs, ignore_index=True)\n",
    "#combined_df['number_label'].count()\n",
    "if os.path.exists(new_save_loc):\n",
    "    print(f'save path: {new_save_loc}')\n",
    "\n",
    "csv_save_name = new_save_loc+'2ds_10000.csv'\n",
    "\n",
    "#combined_df.to_csv(csv_save_name, index=False)"
   ]
  },
  {
   "cell_type": "markdown",
   "id": "bf92cbdf-6180-4967-b395-0ea1bc7787d5",
   "metadata": {},
   "source": [
    "## moving images"
   ]
  },
  {
   "cell_type": "code",
   "execution_count": 9,
   "id": "02299b7f-a8a6-4398-801d-e62954a1a3ff",
   "metadata": {},
   "outputs": [],
   "source": [
    "png_2000_pth = os.path.join(base_path, original_folders[0])\n",
    "png_3000_pth = os.path.join(base_path, original_folders[1])\n",
    "png_5000_pth = os.path.join(base_path, original_folders[2])\n",
    "\n",
    "three_base_paths = [png_2000_pth+'/', png_3000_pth+'/', png_5000_pth+'/']\n"
   ]
  },
  {
   "cell_type": "code",
   "execution_count": 11,
   "id": "ea003aa1-5fc8-4a85-a84c-137cfc1b25f8",
   "metadata": {},
   "outputs": [
    {
     "data": {
      "text/plain": [
       "'/gws/nopw/j04/dcmex/users/ezriab/image_labelling/2ds_2000_010125'"
      ]
     },
     "execution_count": 11,
     "metadata": {},
     "output_type": "execute_result"
    }
   ],
   "source": [
    "png_2000_pth"
   ]
  },
  {
   "cell_type": "code",
   "execution_count": 7,
   "id": "3d559a1b-dd21-409c-954e-ea85cc09508d",
   "metadata": {
    "collapsed": true,
    "jupyter": {
     "outputs_hidden": true
    }
   },
   "outputs": [
    {
     "ename": "KeyboardInterrupt",
     "evalue": "",
     "output_type": "error",
     "traceback": [
      "\u001b[0;31m---------------------------------------------------------------------------\u001b[0m",
      "\u001b[0;31mKeyboardInterrupt\u001b[0m                         Traceback (most recent call last)",
      "Cell \u001b[0;32mIn[7], line 6\u001b[0m\n\u001b[1;32m      4\u001b[0m list_of_all_images \u001b[38;5;241m=\u001b[39m glob(main_path\u001b[38;5;241m+\u001b[39m\u001b[38;5;124m'\u001b[39m\u001b[38;5;124m*.png\u001b[39m\u001b[38;5;124m'\u001b[39m)\n\u001b[1;32m      5\u001b[0m \u001b[38;5;28;01mfor\u001b[39;00m image \u001b[38;5;129;01min\u001b[39;00m list_of_all_images:\n\u001b[0;32m----> 6\u001b[0m     \u001b[43mshutil\u001b[49m\u001b[38;5;241;43m.\u001b[39;49m\u001b[43mcopy\u001b[49m\u001b[43m(\u001b[49m\u001b[43mimage\u001b[49m\u001b[43m,\u001b[49m\u001b[43m \u001b[49m\u001b[43mnew_save_loc\u001b[49m\u001b[43m)\u001b[49m\n",
      "File \u001b[0;32m/opt/jaspy/lib/python3.11/shutil.py:431\u001b[0m, in \u001b[0;36mcopy\u001b[0;34m(src, dst, follow_symlinks)\u001b[0m\n\u001b[1;32m    429\u001b[0m \u001b[38;5;28;01mif\u001b[39;00m os\u001b[38;5;241m.\u001b[39mpath\u001b[38;5;241m.\u001b[39misdir(dst):\n\u001b[1;32m    430\u001b[0m     dst \u001b[38;5;241m=\u001b[39m os\u001b[38;5;241m.\u001b[39mpath\u001b[38;5;241m.\u001b[39mjoin(dst, os\u001b[38;5;241m.\u001b[39mpath\u001b[38;5;241m.\u001b[39mbasename(src))\n\u001b[0;32m--> 431\u001b[0m \u001b[43mcopyfile\u001b[49m\u001b[43m(\u001b[49m\u001b[43msrc\u001b[49m\u001b[43m,\u001b[49m\u001b[43m \u001b[49m\u001b[43mdst\u001b[49m\u001b[43m,\u001b[49m\u001b[43m \u001b[49m\u001b[43mfollow_symlinks\u001b[49m\u001b[38;5;241;43m=\u001b[39;49m\u001b[43mfollow_symlinks\u001b[49m\u001b[43m)\u001b[49m\n\u001b[1;32m    432\u001b[0m copymode(src, dst, follow_symlinks\u001b[38;5;241m=\u001b[39mfollow_symlinks)\n\u001b[1;32m    433\u001b[0m \u001b[38;5;28;01mreturn\u001b[39;00m dst\n",
      "File \u001b[0;32m/opt/jaspy/lib/python3.11/shutil.py:258\u001b[0m, in \u001b[0;36mcopyfile\u001b[0;34m(src, dst, follow_symlinks)\u001b[0m\n\u001b[1;32m    256\u001b[0m \u001b[38;5;28;01mwith\u001b[39;00m \u001b[38;5;28mopen\u001b[39m(src, \u001b[38;5;124m'\u001b[39m\u001b[38;5;124mrb\u001b[39m\u001b[38;5;124m'\u001b[39m) \u001b[38;5;28;01mas\u001b[39;00m fsrc:\n\u001b[1;32m    257\u001b[0m     \u001b[38;5;28;01mtry\u001b[39;00m:\n\u001b[0;32m--> 258\u001b[0m \u001b[43m        \u001b[49m\u001b[38;5;28;43;01mwith\u001b[39;49;00m\u001b[43m \u001b[49m\u001b[38;5;28;43mopen\u001b[39;49m\u001b[43m(\u001b[49m\u001b[43mdst\u001b[49m\u001b[43m,\u001b[49m\u001b[43m \u001b[49m\u001b[38;5;124;43m'\u001b[39;49m\u001b[38;5;124;43mwb\u001b[39;49m\u001b[38;5;124;43m'\u001b[39;49m\u001b[43m)\u001b[49m\u001b[43m \u001b[49m\u001b[38;5;28;43;01mas\u001b[39;49;00m\u001b[43m \u001b[49m\u001b[43mfdst\u001b[49m\u001b[43m:\u001b[49m\n\u001b[1;32m    259\u001b[0m \u001b[43m            \u001b[49m\u001b[38;5;66;43;03m# macOS\u001b[39;49;00m\n\u001b[1;32m    260\u001b[0m \u001b[43m            \u001b[49m\u001b[38;5;28;43;01mif\u001b[39;49;00m\u001b[43m \u001b[49m\u001b[43m_HAS_FCOPYFILE\u001b[49m\u001b[43m:\u001b[49m\n\u001b[1;32m    261\u001b[0m \u001b[43m                \u001b[49m\u001b[38;5;28;43;01mtry\u001b[39;49;00m\u001b[43m:\u001b[49m\n",
      "\u001b[0;31mKeyboardInterrupt\u001b[0m: "
     ]
    }
   ],
   "source": [
    "## loop for moving all the images in the seperate folders\n",
    "for main_path in three_base_paths:\n",
    "    list_of_all_images = glob(main_path+'*.png')\n",
    "    for image in list_of_all_images:\n",
    "        shutil.copy(image, new_save_loc)"
   ]
  },
  {
   "cell_type": "markdown",
   "id": "63784665-87c2-42ff-b6fe-fc0e1622dd60",
   "metadata": {},
   "source": [
    "## archiving"
   ]
  },
  {
   "cell_type": "code",
   "execution_count": 8,
   "id": "86aacbb8-5ac4-4025-af78-7b08d1f8420f",
   "metadata": {},
   "outputs": [],
   "source": [
    "def do_archive(directory, output_dir_name):\n",
    "    shutil.make_archive(output_dir_name, 'zip', directory)"
   ]
  },
  {
   "cell_type": "code",
   "execution_count": null,
   "id": "565cef36-6ae9-46d8-b030-28721f876cdd",
   "metadata": {},
   "outputs": [],
   "source": [
    "## also need to archive some things\n",
    "save_archived_things = '/gws/nopw/j04/dcmex/users/ezriab/archive/'\n",
    "\n",
    "\n",
    "ds_image_path = '/gws/nopw/j04/dcmex/users/ezriab/processed_images/2ds' #also 2ds  hvps in this\n",
    "hvps_image_path = '/gws/nopw/j04/dcmex/users/ezriab/processed_images/hvps'\n",
    "stats_path = '/gws/nopw/j04/dcmex/users/ezriab/processed_stats' ## just do whole folder\n",
    "\n",
    "\n",
    "do_archive(png_2000_pth,save_archived_things+'2ds_2000_sample_010125')\n",
    "do_archive(png_3000_pth,save_archived_things+'2ds_3000_sample_030125')\n",
    "do_archive(png_5000_pth,save_archived_things+'2ds_5000_sample_100125')\n",
    "\n",
    "do_archive(ds_image_path,save_archived_things+'all_2ds_processed_images')\n",
    "do_archive(hvps_image_path,save_archived_things+'all_hvps_processed_images')\n",
    "do_archive(stats_path,save_archived_things+'all_processed_stats')\n"
   ]
  },
  {
   "cell_type": "code",
   "execution_count": null,
   "id": "57457730-d5f1-4faf-b1d6-7d5c54ba0f65",
   "metadata": {},
   "outputs": [],
   "source": []
  }
 ],
 "metadata": {
  "kernelspec": {
   "display_name": "Python 3 + Jaspy",
   "language": "python",
   "name": "jaspy"
  },
  "language_info": {
   "codemirror_mode": {
    "name": "ipython",
    "version": 3
   },
   "file_extension": ".py",
   "mimetype": "text/x-python",
   "name": "python",
   "nbconvert_exporter": "python",
   "pygments_lexer": "ipython3",
   "version": "3.11.9"
  }
 },
 "nbformat": 4,
 "nbformat_minor": 5
}
