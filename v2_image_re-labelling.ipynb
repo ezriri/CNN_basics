{
 "cells": [
  {
   "cell_type": "markdown",
   "id": "1e91ebdc-867e-4eff-8041-ed33a7eeca9c",
   "metadata": {},
   "source": [
    "# image re-labelling code\n",
    "going over the images i have already labelled, and re-labelling them."
   ]
  },
  {
   "cell_type": "code",
   "execution_count": 1,
   "id": "d5cca462-16c9-4293-a7b5-380e8b25b6cb",
   "metadata": {},
   "outputs": [],
   "source": [
    "import numpy as np\n",
    "import pandas as pd\n",
    "import os\n",
    "from PIL import Image\n",
    "from glob import glob\n",
    "import csv\n",
    "import matplotlib.pyplot as plt\n",
    "from IPython.display import clear_output\n",
    "import math\n",
    "import shutil"
   ]
  },
  {
   "cell_type": "code",
   "execution_count": 17,
   "id": "2f61af8f-1e67-4803-b7a7-d67a09d090f8",
   "metadata": {},
   "outputs": [
    {
     "name": "stdout",
     "output_type": "stream",
     "text": [
      "reading /gws/nopw/j04/dcmex/users/ezriab/image_labelling/2ds_10000_sample/2ds_10000.csv\n",
      "saving to /gws/nopw/j04/dcmex/users/ezriab/image_labelling/2ds_10000_sample/2ds_10000_test.csv\n",
      "number of images already labelled: 10000\n"
     ]
    },
    {
     "data": {
      "text/html": [
       "<div>\n",
       "<style scoped>\n",
       "    .dataframe tbody tr th:only-of-type {\n",
       "        vertical-align: middle;\n",
       "    }\n",
       "\n",
       "    .dataframe tbody tr th {\n",
       "        vertical-align: top;\n",
       "    }\n",
       "\n",
       "    .dataframe thead th {\n",
       "        text-align: right;\n",
       "    }\n",
       "</style>\n",
       "<table border=\"1\" class=\"dataframe\">\n",
       "  <thead>\n",
       "    <tr style=\"text-align: right;\">\n",
       "      <th></th>\n",
       "      <th>image_name</th>\n",
       "      <th>number_label</th>\n",
       "      <th>2nd_label</th>\n",
       "    </tr>\n",
       "  </thead>\n",
       "  <tbody>\n",
       "    <tr>\n",
       "      <th>0</th>\n",
       "      <td>1697685_23ch1</td>\n",
       "      <td>1.0</td>\n",
       "      <td>NaN</td>\n",
       "    </tr>\n",
       "    <tr>\n",
       "      <th>1</th>\n",
       "      <td>669294_20ch0</td>\n",
       "      <td>1.0</td>\n",
       "      <td>NaN</td>\n",
       "    </tr>\n",
       "    <tr>\n",
       "      <th>2</th>\n",
       "      <td>601343_19ch0</td>\n",
       "      <td>1.0</td>\n",
       "      <td>NaN</td>\n",
       "    </tr>\n",
       "    <tr>\n",
       "      <th>3</th>\n",
       "      <td>18058_26ch1</td>\n",
       "      <td>1.0</td>\n",
       "      <td>NaN</td>\n",
       "    </tr>\n",
       "    <tr>\n",
       "      <th>4</th>\n",
       "      <td>1261837_25ch0</td>\n",
       "      <td>3.0</td>\n",
       "      <td>NaN</td>\n",
       "    </tr>\n",
       "  </tbody>\n",
       "</table>\n",
       "</div>"
      ],
      "text/plain": [
       "      image_name  number_label  2nd_label\n",
       "0  1697685_23ch1           1.0        NaN\n",
       "1   669294_20ch0           1.0        NaN\n",
       "2   601343_19ch0           1.0        NaN\n",
       "3    18058_26ch1           1.0        NaN\n",
       "4  1261837_25ch0           3.0        NaN"
      ]
     },
     "execution_count": 17,
     "metadata": {},
     "output_type": "execute_result"
    }
   ],
   "source": [
    "## directory of set of images i would like to label + corresponding csv to populate\n",
    "folder_path = '/gws/nopw/j04/dcmex/users/ezriab/image_labelling/2ds_10000_sample/'\n",
    "old_path = '/gws/nopw/j04/dcmex/users/ezriab/image_labelling/combined/2ds_2000_010125/'\n",
    "# open csv quickly to check it is correct + in the format we expect\n",
    "csv_file_name = '2ds_10000.csv'\n",
    "saving_csv_name = '2ds_10000_test.csv'\n",
    "csv_full_path = os.path.join(folder_path,csv_file_name)\n",
    "full_save_csv_path = os.path.join(folder_path,saving_csv_name)\n",
    "csv_read_pd = pd.read_csv(csv_full_path)\n",
    "print(f'reading {csv_full_path}')\n",
    "print(f'saving to {full_save_csv_path}')\n",
    "n_images_done = csv_read_pd['number_label'].count()\n",
    "print(f'number of images already labelled: {n_images_done}')\n",
    "csv_read_pd.head()"
   ]
  },
  {
   "cell_type": "code",
   "execution_count": null,
   "id": "894c6ee4-e75c-4e88-a6db-5bb0419c0e23",
   "metadata": {
    "jupyter": {
     "source_hidden": true
    }
   },
   "outputs": [],
   "source": [
    "## updating the already labelled csv - make new column + saving in og place\n",
    "#csv_read_pd['2nd_label'] = np.nan\n",
    "#csv_read_pd\n",
    "#full_save_csv_path = os.path.join(folder_path,saving_csv_name)\n",
    "#csv_read_pd.to_csv(full_save_csv_path, index=False)\n",
    "\n",
    "## how many of each category\n",
    "'''\n",
    "count_cp = csv_read_pd['number_label'].value_counts().get(11.0, 0)\n",
    "print(count_cp)\n",
    "'''"
   ]
  },
  {
   "cell_type": "markdown",
   "id": "291f452a-79a3-4f38-a654-7b328f6e9cb2",
   "metadata": {},
   "source": [
    "# label things"
   ]
  },
  {
   "cell_type": "code",
   "execution_count": 18,
   "id": "25f1b69a-3aad-411d-b2cc-69b5a6176d3c",
   "metadata": {},
   "outputs": [],
   "source": [
    "number_of_interest = 1 # between 1 to 9, or 11"
   ]
  },
  {
   "cell_type": "code",
   "execution_count": 24,
   "id": "a57ea329-9f53-47c1-9022-cd256853eca0",
   "metadata": {},
   "outputs": [
    {
     "name": "stdout",
     "output_type": "stream",
     "text": [
      "2163756_19ch0\n"
     ]
    },
    {
     "data": {
      "image/png": "[encoded data removed]",
      "text/plain": [
       "<Figure size 800x800 with 1 Axes>"
      ]
     },
     "metadata": {},
     "output_type": "display_data"
    },
    {
     "name": "stdin",
     "output_type": "stream",
     "text": [
      "Enter a label (0-9 or 11, or 'stop' to quit):  1\n"
     ]
    }
   ],
   "source": [
    "## okay we are going to need a completly different approach for this\n",
    "def v2_saving_function(df,save_path):\n",
    "    df.to_csv(save_path, index=False)\n",
    "    print(f'{saving_csv_name} saved!')\n",
    "    return df\n",
    "    \n",
    "\n",
    "# make a list of index where these images are located\n",
    "interesting_idx = csv_read_pd.index[csv_read_pd['number_label'] == number_of_interest].tolist()\n",
    "\n",
    "#for i in range(len(interesting_idx)):\n",
    "for i in range(10):\n",
    "    idx = interesting_idx[i]\n",
    "    row = csv_read_pd.loc[idx]\n",
    "    image_name = row.iloc[0]\n",
    "    og_label = row.iloc[1]\n",
    "    new_label = row.iloc[2]\n",
    "\n",
    "    # I've already labelled it a second time\n",
    "    if not pd.isna(new_label):\n",
    "        continue\n",
    "\n",
    "    ## lets do the whole image labelling thing\n",
    "    else:\n",
    "        print(image_name)\n",
    "        im = Image.open(os.path.join(folder_path, image_name + '.png'))\n",
    "        plt.figure(figsize=(8, 8))\n",
    "        plt.imshow(im)\n",
    "        plt.axis('off')\n",
    "        plt.show()\n",
    "        while True: # loop will continue until a valid entry is passed\n",
    "            inp = input(\"Enter a label (0-9 or 11, or 'stop' to quit): \") ## label of image\n",
    "\n",
    "            ## if write 'stop' will stop labelling + save what has been done\n",
    "            if inp.lower() == 'stop':\n",
    "                print(\"Stopped labeling.\")\n",
    "                updated_df = v2_saving_function(csv_read_pd,full_save_csv_path)\n",
    "                raise SystemExit  # Exit gracefully\n",
    "            \n",
    "            try:\n",
    "                num = int(inp) # convert to number (corresponding to label)\n",
    "                if 0 <= num <= 11:  # Check if the number is in the valid range\n",
    "                    clear_output(wait=True) # get rid of image once you've labelled it\n",
    "                    csv_read_pd.loc[idx, '2nd_label'] = num ## as working in a df, we over-write the correct cell\n",
    "                    break  # Exit the loop if the input is valid\n",
    "                else:\n",
    "                    print(\"Error: Label must be between 0 and 11.\")\n",
    "            except ValueError: # if we don't input a number -> stop labelling, so will break\n",
    "                print(\"not words, what are you doing???\")\n",
    "        \n",
    "updated_df = v2_saving_function(csv_read_pd,full_save_csv_path)"
   ]
  },
  {
   "cell_type": "markdown",
   "id": "7771238d-9be6-4649-aad8-f6cdfe12f8c6",
   "metadata": {
    "jp-MarkdownHeadingCollapsed": true
   },
   "source": [
    "## hide extra stuff"
   ]
  },
  {
   "cell_type": "code",
   "execution_count": 26,
   "id": "8f2fec95-e0d9-4d78-a8bf-cfcfabb8e797",
   "metadata": {},
   "outputs": [
    {
     "data": {
      "text/plain": [
       "10"
      ]
     },
     "execution_count": 26,
     "metadata": {},
     "output_type": "execute_result"
    }
   ],
   "source": [
    "csv_read_pd['2nd_label'].count()\n",
    "#df.to_csv(csv_file_list[0], index=False) "
   ]
  },
  {
   "cell_type": "code",
   "execution_count": null,
   "id": "33386025-0b12-44f7-833a-762d359ad903",
   "metadata": {},
   "outputs": [],
   "source": [
    "## copy newly labelled csv to github too\n",
    "git_path = '/home/users/esree/CNN_basics/save_progress/'\n",
    "shutil.copy(full_save_csv_path, git_path)"
   ]
  }
 ],
 "metadata": {
  "kernelspec": {
   "display_name": "Python 3 + Jaspy",
   "language": "python",
   "name": "jaspy"
  },
  "language_info": {
   "codemirror_mode": {
    "name": "ipython",
    "version": 3
   },
   "file_extension": ".py",
   "mimetype": "text/x-python",
   "name": "python",
   "nbconvert_exporter": "python",
   "pygments_lexer": "ipython3",
   "version": "3.11.9"
  }
 },
 "nbformat": 4,
 "nbformat_minor": 5
}
